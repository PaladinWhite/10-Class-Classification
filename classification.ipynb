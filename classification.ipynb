{
  "nbformat": 4,
  "nbformat_minor": 0,
  "metadata": {
    "colab": {
      "provenance": [],
      "collapsed_sections": [
        "vHA1ZoMmeCdo",
        "jECnpmV6Yxxn",
        "Cr832Z7oV8Um",
        "b7Mm9WsuRWfS",
        "9qNPX5bbB95R",
        "okzOCosxWKQU",
        "IBOiQBZ8efwz",
        "aPVAFMCAgVJB",
        "nsJNl6yYgZL5",
        "cNEh3mIdiusV",
        "V7z6Q4jpA9Xg",
        "j7tnEL1CWv23",
        "gy_IGm9MakGb",
        "H9NksUrhcGni",
        "OO1WxpPdBAOO",
        "x6VN35gFC5Fx"
      ]
    },
    "kernelspec": {
      "name": "python3",
      "display_name": "Python 3"
    },
    "language_info": {
      "name": "python"
    }
  },
  "cells": [
    {
      "cell_type": "markdown",
      "source": [
        "#IMPORT"
      ],
      "metadata": {
        "id": "vHA1ZoMmeCdo"
      }
    },
    {
      "cell_type": "code",
      "source": [
        "import sys\n",
        "import csv\n",
        "import pandas as pd\n",
        "import numpy as np\n",
        "import random\n",
        "import sklearn.metrics\n",
        "import sklearn.model_selection\n",
        "import matplotlib.pyplot as plt\n",
        "from sklearn import tree, preprocessing, svm\n",
        "from sklearn.neighbors import KNeighborsClassifier\n",
        "from sklearn.model_selection import train_test_split, cross_val_score\n",
        "from sklearn.metrics import classification_report, confusion_matrix"
      ],
      "metadata": {
        "id": "TOAzZjXKeFSD"
      },
      "execution_count": null,
      "outputs": []
    },
    {
      "cell_type": "markdown",
      "source": [
        "#DEFINITION OF AUXILIARY FUNCTIONS"
      ],
      "metadata": {
        "id": "jECnpmV6Yxxn"
      }
    },
    {
      "cell_type": "markdown",
      "source": [
        "Load Data"
      ],
      "metadata": {
        "id": "T71uBPJkZIiE"
      }
    },
    {
      "cell_type": "code",
      "source": [
        "def load_data(csv_filepath):\n",
        "    '''\n",
        "    Load data from a csv file.\n",
        "\n",
        "    :param csv_filepath: path of the .csv file containing the data to load/extract\n",
        "\n",
        "    :return X: array of values associated with the inputs of the data contained in the .csv file\n",
        "    :return Y: array of values associated with the labels of the data contained in the .csv file or None if the file does not contain labels\n",
        "    '''\n",
        "\n",
        "    data = pd.read_csv(csv_filepath)\n",
        "\n",
        "    # Headers' list:\n",
        "    headers = data.columns # 'x' for inputs, 'y' for labels\n",
        "\n",
        "    # Extract DataFrames based on the headers:\n",
        "    x_data = data[headers[0]]\n",
        "\n",
        "    # Convert an array-like string (e.g., '[0.02, 1.34\\n, 2.12, 3.23\\n]')\n",
        "    # into an array of floats (e.g., [0.02, 1.34, 2.12, 3.23]):\n",
        "    X_data = [[float(feature) for feature in feature_vec.replace('[', '').replace(']', '').split()] for feature_vec in x_data]\n",
        "\n",
        "    # convert data into numpy arrays\n",
        "    X = np.array(X_data)\n",
        "\n",
        "    if len(headers)>1:\n",
        "        Y_data = data[headers[1]]\n",
        "        Y = np.array(Y_data)\n",
        "    else:\n",
        "        Y = None\n",
        "\n",
        "    return X, Y"
      ],
      "metadata": {
        "id": "Enro3GOlZAGc"
      },
      "execution_count": null,
      "outputs": []
    },
    {
      "cell_type": "markdown",
      "source": [
        "Plot a confusion matrix"
      ],
      "metadata": {
        "id": "stRyDaLbZVnO"
      }
    },
    {
      "cell_type": "code",
      "source": [
        "def plot_confusion_matrix(y_true, y_pred, classes,\n",
        "                          normalize=False,\n",
        "                          title=None,\n",
        "                          cmap=plt.cm.Blues):\n",
        "    \"\"\"\n",
        "    This function prints and plots the confusion matrix.\n",
        "    Normalization can be applied by setting `normalize=True`.\n",
        "    \"\"\"\n",
        "    if not title:\n",
        "        if normalize:\n",
        "            title = 'Normalized confusion matrix'\n",
        "        else:\n",
        "            title = 'Confusion matrix, without normalization'\n",
        "\n",
        "    # Compute confusion matrix\n",
        "    cm = confusion_matrix(y_true, y_pred)\n",
        "    # Only use the labels that appear in the data\n",
        "    classes = ['0','1','2','3','4','5','6','7','8','9']\n",
        "    if normalize:\n",
        "        cm = cm.astype('float') / cm.sum(axis=1)[:, np.newaxis]\n",
        "        #print(\"Normalized confusion matrix\")\n",
        "    else:\n",
        "        pass\n",
        "        #print('Confusion matrix, without normalization')\n",
        "\n",
        "    #print(cm)\n",
        "\n",
        "    fig, ax = plt.subplots()\n",
        "    im = ax.imshow(cm, interpolation='nearest', cmap=cmap)\n",
        "    ax.figure.colorbar(im, ax=ax)\n",
        "    # We want to show all ticks...\n",
        "    ax.set(xticks=np.arange(cm.shape[1]),\n",
        "           yticks=np.arange(cm.shape[0]),\n",
        "           # ... and label them with the respective list entries\n",
        "           xticklabels=classes, yticklabels=classes,\n",
        "           title=title,\n",
        "           ylabel='True label',\n",
        "           xlabel='Predicted label')\n",
        "\n",
        "    ax.set_ylim(len(classes)-0.5, -0.5)\n",
        "\n",
        "    # Rotate the tick labels and set their alignment.\n",
        "    plt.setp(ax.get_xticklabels(), rotation=45, ha=\"right\",\n",
        "             rotation_mode=\"anchor\")\n",
        "\n",
        "    # Loop over data dimensions and create text annotations.\n",
        "    fmt = '.2f' if normalize else 'd'\n",
        "    thresh = cm.max() / 2.\n",
        "    for i in range(cm.shape[0]):\n",
        "        for j in range(cm.shape[1]):\n",
        "            ax.text(j, i, format(cm[i, j], fmt),\n",
        "                    ha=\"center\", va=\"center\",\n",
        "                    color=\"white\" if cm[i, j] > thresh else \"black\")\n",
        "    fig.tight_layout()\n",
        "    return ax"
      ],
      "metadata": {
        "id": "SiNulzzzZYoS"
      },
      "execution_count": null,
      "outputs": []
    },
    {
      "cell_type": "markdown",
      "source": [
        "#DATASET 1"
      ],
      "metadata": {
        "id": "Cr832Z7oV8Um"
      }
    },
    {
      "cell_type": "markdown",
      "source": [
        "##Load Data"
      ],
      "metadata": {
        "id": "b7Mm9WsuRWfS"
      }
    },
    {
      "cell_type": "code",
      "source": [
        "X_1,Y_1 = load_data(\"/content/drive/MyDrive/Colab Notebooks/Machine Learning Exercises/Homework 1/dataset1.csv\")"
      ],
      "metadata": {
        "id": "0ZRiP0r_hGc3"
      },
      "execution_count": null,
      "outputs": []
    },
    {
      "cell_type": "markdown",
      "source": [
        "##Preprocess"
      ],
      "metadata": {
        "id": "9qNPX5bbB95R"
      }
    },
    {
      "cell_type": "markdown",
      "source": [
        "Choose a type of preprocess for prepare the raw data so that it is suitable for training"
      ],
      "metadata": {
        "id": "SziAThOKhAzI"
      }
    },
    {
      "cell_type": "code",
      "source": [
        "type_of_preprocessing = ['standard', 'minmax', 'normalize', None]\n",
        "metric_for_normalization = ['l1', 'l2', 'max']\n",
        "\n",
        "pre = type_of_preprocessing[0]\n",
        "\n",
        "if(pre == 'standard'):\n",
        "  scaler = preprocessing.StandardScaler()\n",
        "  scaler.fit_transform(X_1)\n",
        "elif(pre == 'minmax'):\n",
        "  scaler = preprocessing.MinMaxScaler()\n",
        "  scaler.fit_transform(X_1)\n",
        "elif(pre == 'normalize'):\n",
        "  n = metric_for_normalization[0] # used to normalize each non zero sample\n",
        "  X_1 = preprocessing.normalize(X_1,norm=n)"
      ],
      "metadata": {
        "id": "BaTAH0F_CAVF"
      },
      "execution_count": null,
      "outputs": []
    },
    {
      "cell_type": "markdown",
      "source": [
        "**Print**"
      ],
      "metadata": {
        "id": "5cbGSYHBTd6Q"
      }
    },
    {
      "cell_type": "code",
      "source": [
        "print(\"Input shape: %s\" %str(X_1.shape))\n",
        "print(\"Output shape: %s\" %str(Y_1.shape))\n",
        "print(\"Number of attributes/features: %d\" %(X_1.shape[1]))\n",
        "print(\"Number of samples: %d\" %(X_1.shape[0]))\n",
        "\n",
        "# show an example\n",
        "id = random.randrange(0,X_1.shape[0])\n",
        "\n",
        "print(\"Example:\")\n",
        "print(\"x%d = %r\" %(id,X_1[id]))\n",
        "print(\"y%d = %r\" %(id,Y_1[id]))"
      ],
      "metadata": {
        "colab": {
          "base_uri": "https://localhost:8080/"
        },
        "id": "7Odu5TUeS_qh",
        "outputId": "c140126e-f811-4be4-dc1c-e060cb81802c"
      },
      "execution_count": null,
      "outputs": [
        {
          "output_type": "stream",
          "name": "stdout",
          "text": [
            "Input shape: (50000, 100)\n",
            "Output shape: (50000,)\n",
            "Number of attributes/features: 100\n",
            "Number of samples: 50000\n",
            "Example:\n",
            "x15113 = array([0.        , 0.38196355, 0.        , 4.5100484 , 3.3207958 ,\n",
            "       0.        , 0.19333893, 4.2144556 , 0.        , 0.        ,\n",
            "       0.        , 0.18017566, 0.        , 0.        , 0.        ,\n",
            "       0.        , 1.49788   , 0.        , 3.2095325 , 2.1662865 ,\n",
            "       0.866846  , 3.9240644 , 3.7937484 , 2.3164237 , 0.2076561 ,\n",
            "       0.        , 3.9575002 , 0.7519521 , 0.3364986 , 3.2990294 ,\n",
            "       0.        , 0.        , 0.        , 2.5585818 , 0.        ,\n",
            "       1.9448056 , 3.924943  , 2.1042893 , 7.455678  , 0.04674581,\n",
            "       0.        , 0.        , 0.        , 5.7744927 , 0.        ,\n",
            "       0.        , 0.        , 2.3145578 , 2.7090697 , 3.3256545 ,\n",
            "       4.23927   , 5.7328973 , 0.41870612, 2.7110896 , 1.0301093 ,\n",
            "       1.5938935 , 0.        , 1.9115968 , 0.84507024, 0.        ,\n",
            "       0.        , 0.7515078 , 0.        , 0.        , 0.        ,\n",
            "       0.        , 0.28687876, 2.8769288 , 0.        , 0.        ,\n",
            "       0.        , 2.5381784 , 1.4418325 , 0.        , 0.5932267 ,\n",
            "       2.0531905 , 0.        , 0.9860415 , 0.        , 0.        ,\n",
            "       0.        , 0.        , 0.        , 0.        , 0.        ,\n",
            "       0.        , 0.2365235 , 5.215204  , 1.6995729 , 2.1333253 ,\n",
            "       0.        , 0.        , 0.        , 0.        , 5.49327   ,\n",
            "       0.34299418, 1.963132  , 3.368465  , 0.        , 0.        ])\n",
            "y15113 = 0\n"
          ]
        }
      ]
    },
    {
      "cell_type": "code",
      "source": [
        "class_values = {}\n",
        "for i in range(0,10):\n",
        "  class_values[i]=0\n",
        "for c in Y_1:\n",
        "  class_values[c]+=1\n",
        "print(class_values)\n",
        "plt.bar(class_values.keys(),class_values.values())"
      ],
      "metadata": {
        "colab": {
          "base_uri": "https://localhost:8080/"
        },
        "id": "bIKffKCyLy21",
        "outputId": "6fc7fad4-c69d-4776-8f34-410f30314f9b"
      },
      "execution_count": null,
      "outputs": [
        {
          "output_type": "stream",
          "name": "stdout",
          "text": [
            "{0: 5000, 1: 5000, 2: 5000, 3: 5000, 4: 5000, 5: 5000, 6: 5000, 7: 5000, 8: 5000, 9: 5000}\n"
          ]
        },
        {
          "output_type": "execute_result",
          "data": {
            "text/plain": [
              "<BarContainer object of 10 artists>"
            ]
          },
          "metadata": {},
          "execution_count": 7
        },
        {
          "output_type": "display_data",
          "data": {
            "text/plain": [
              "<Figure size 640x480 with 1 Axes>"
            ],
            "image/png": "[encoded data removed]"
          },
          "metadata": {}
        }
      ]
    },
    {
      "cell_type": "markdown",
      "source": [
        "##Split Data"
      ],
      "metadata": {
        "id": "okzOCosxWKQU"
      }
    },
    {
      "cell_type": "code",
      "source": [
        "# 80% train set, 20% test set\n",
        "\n",
        "X_train_1, X_test_1, y_train_1, y_test_1 = train_test_split(X_1, Y_1, test_size=0.2, random_state=15)"
      ],
      "metadata": {
        "id": "luLZSJJkAFY_"
      },
      "execution_count": null,
      "outputs": []
    },
    {
      "cell_type": "markdown",
      "source": [
        "**Print**"
      ],
      "metadata": {
        "id": "4TJ2vda7AC7H"
      }
    },
    {
      "cell_type": "code",
      "source": [
        "print(\"Size of training set: %d\" %X_train_1.shape[0])\n",
        "print(\"Size of test set: %d\" %X_test_1.shape[0])\n",
        "\n",
        "print('First training sample')\n",
        "id = 0\n",
        "print(\"    x_train_%d = %r\" %(id,X_train_1[id]))\n",
        "print(\"    y_train_%d = %r\" %(id,y_train_1[id]))\n",
        "\n",
        "print('First test sample')\n",
        "id = 0\n",
        "print(\"    x_test_%d = %r\" %(id,X_test_1[id]))\n",
        "print(\"    y_test_%d = %r\" %(id,y_test_1[id]))"
      ],
      "metadata": {
        "colab": {
          "base_uri": "https://localhost:8080/"
        },
        "id": "47fVqLvlW0nQ",
        "outputId": "222054f8-d663-4c9a-8b56-9d7159ca1e08"
      },
      "execution_count": null,
      "outputs": [
        {
          "output_type": "stream",
          "name": "stdout",
          "text": [
            "Size of training set: 40000\n",
            "Size of test set: 10000\n",
            "First training sample\n",
            "    x_train_0 = array([1.2816199 , 0.85749465, 0.        , 1.3946543 , 0.8434709 ,\n",
            "       0.        , 1.9842827 , 2.4051332 , 0.        , 0.17946725,\n",
            "       0.        , 0.        , 0.        , 0.        , 0.        ,\n",
            "       0.        , 3.1655111 , 0.        , 0.45881706, 3.3371134 ,\n",
            "       0.55247074, 0.        , 0.71675617, 0.64120835, 0.54357433,\n",
            "       0.        , 2.5128384 , 0.15988272, 2.684928  , 2.919863  ,\n",
            "       4.476648  , 0.        , 0.        , 0.681772  , 0.        ,\n",
            "       3.0646522 , 2.7774305 , 1.1783743 , 3.2362728 , 0.        ,\n",
            "       2.058738  , 0.9309574 , 2.2239563 , 0.        , 1.1719234 ,\n",
            "       0.        , 0.        , 0.        , 2.4436133 , 0.61120486,\n",
            "       3.0692868 , 1.5497496 , 0.        , 1.1953511 , 0.35778275,\n",
            "       4.332593  , 0.        , 0.        , 3.867269  , 5.2404304 ,\n",
            "       3.2007895 , 3.2604215 , 0.        , 0.        , 0.        ,\n",
            "       1.407496  , 0.        , 2.037096  , 0.        , 0.        ,\n",
            "       0.26184732, 3.8816204 , 0.        , 0.        , 2.4808743 ,\n",
            "       4.0556355 , 0.        , 0.28868648, 0.        , 0.        ,\n",
            "       2.5770342 , 0.        , 0.4231458 , 0.        , 0.        ,\n",
            "       2.007724  , 0.31824768, 0.35482356, 0.        , 0.        ,\n",
            "       2.2808728 , 1.6471939 , 0.16783404, 0.46755084, 3.7301562 ,\n",
            "       0.        , 0.39055067, 0.        , 0.        , 0.32258844])\n",
            "    y_train_0 = 2\n",
            "First test sample\n",
            "    x_test_0 = array([0.38071805, 1.3258511 , 0.        , 0.5116686 , 2.119031  ,\n",
            "       0.        , 0.        , 1.8993862 , 0.        , 0.3809868 ,\n",
            "       0.        , 0.6818599 , 0.        , 0.        , 0.        ,\n",
            "       0.        , 0.48823354, 0.        , 1.904883  , 1.1821656 ,\n",
            "       1.4080578 , 1.0682474 , 0.49368793, 0.04538516, 0.9605003 ,\n",
            "       0.        , 1.888787  , 0.3742234 , 2.6186552 , 3.1280627 ,\n",
            "       1.7568715 , 0.        , 0.        , 3.8548088 , 0.        ,\n",
            "       0.37321204, 1.3981506 , 0.        , 3.0454795 , 0.        ,\n",
            "       2.856201  , 3.577625  , 3.4479988 , 1.0500095 , 1.6636003 ,\n",
            "       0.04103951, 0.        , 0.        , 0.        , 2.969922  ,\n",
            "       0.6481335 , 1.6476228 , 0.        , 0.5317931 , 1.3886305 ,\n",
            "       0.83073   , 0.        , 0.4225982 , 1.3294234 , 2.8530233 ,\n",
            "       2.672648  , 1.1518854 , 0.        , 0.        , 0.        ,\n",
            "       4.133942  , 0.        , 2.681091  , 0.48021755, 0.        ,\n",
            "       0.        , 1.8253462 , 0.        , 0.        , 2.325165  ,\n",
            "       0.99392784, 0.        , 0.        , 0.        , 0.        ,\n",
            "       2.6858091 , 0.        , 1.9654571 , 0.        , 0.3837132 ,\n",
            "       2.6689694 , 0.45906115, 0.        , 1.8530883 , 0.12347696,\n",
            "       1.901073  , 0.76339746, 2.8961515 , 0.        , 3.1786962 ,\n",
            "       0.        , 2.0289707 , 3.2378454 , 0.        , 0.        ])\n",
            "    y_test_0 = 4\n"
          ]
        }
      ]
    },
    {
      "cell_type": "markdown",
      "source": [
        "#LEARNING 1"
      ],
      "metadata": {
        "id": "ZgVK9X8DdZY0"
      }
    },
    {
      "cell_type": "markdown",
      "source": [
        "##Create a models and Cross Validation\n"
      ],
      "metadata": {
        "id": "M1NM-0r9ddkL"
      }
    },
    {
      "cell_type": "markdown",
      "source": [
        "**Decision Tree**"
      ],
      "metadata": {
        "id": "vcwLux4xdkiy"
      }
    },
    {
      "cell_type": "code",
      "source": [
        "#hyperparameters: criteria of the split, strategy to split at each node, maximum depth of the tree\n",
        "set_of_criteria = ['gini', 'entropy', 'log_loss']\n",
        "type_of_split = ['best', 'random']\n",
        "max_depth = np.array(range(1,31))\n",
        "\n",
        "# K-Fold Cross-Validation\n",
        "\n",
        "crit = set_of_criteria[0]\n",
        "split = type_of_split[0]\n",
        "depth = max_depth[0]\n",
        "max_accuracy = 0.0\n",
        "\n",
        "for c in set_of_criteria:\n",
        "  for s in type_of_split:\n",
        "    for d in max_depth:\n",
        "      dt = tree.DecisionTreeClassifier(criterion=c, splitter=s, max_depth=d)\n",
        "      score = cross_val_score(dt, X_train_1, y_train_1, cv=5, scoring='accuracy').mean()\n",
        "      if(score > max_accuracy):\n",
        "        max_accuracy = score\n",
        "        crit = c\n",
        "        split = s\n",
        "        depth = d\n",
        "\n",
        "print('the hyperparameters choosen are criterion=%s, split=%s, depth=%s and the max accuracy is %.3f' %(crit,split,str(depth),max_accuracy))"
      ],
      "metadata": {
        "id": "REgpfCCxdgV1",
        "colab": {
          "base_uri": "https://localhost:8080/"
        },
        "outputId": "7617d13f-aca9-4758-b517-66d1ad0f6603"
      },
      "execution_count": null,
      "outputs": [
        {
          "output_type": "stream",
          "name": "stdout",
          "text": [
            "the hyperparameters choosen are criterion=gini, split=best, depth=12 and the max accuracy is 0.978\n"
          ]
        }
      ]
    },
    {
      "cell_type": "code",
      "source": [
        "decision_tree_1 = tree.DecisionTreeClassifier(criterion='gini', splitter='best', max_depth=12)"
      ],
      "metadata": {
        "id": "U-Fyf1dyP_l-"
      },
      "execution_count": null,
      "outputs": []
    },
    {
      "cell_type": "markdown",
      "source": [
        "**SVM**"
      ],
      "metadata": {
        "id": "SO05KnWf0lkm"
      }
    },
    {
      "cell_type": "code",
      "source": [
        "#hyperparameters:  kernel, degree of the polynomial function if kernel=='poly' (ignored by all other kernels), kernel coefficient for 'rbf', 'poly' and 'sigmoid' (gamma)\n",
        "degree_range = [1,2,3]\n",
        "kernel_set = ['linear', 'poly', 'rbf', 'sigmoid']\n",
        "gamma_set = ['scale','auto']\n",
        "\n",
        "# K-Fold Cross-Validation\n",
        "\n",
        "kernel_name  = kernel_set[0]\n",
        "num_degree = degree_range[0]\n",
        "g = gamma_set[0]\n",
        "max_accuracy = 0.0\n",
        "\n",
        "for k in kernel_set:\n",
        "  for d in degree_range:\n",
        "    for gg in gamma_set:\n",
        "      if k!='linear':\n",
        "        if k=='poly':\n",
        "          sc=svm.SVC(C=1.0, kernel=k, degree=d, gamma=gg)\n",
        "        else:\n",
        "          sc=svm.SVC(C=1.0, kernel=k, gamma=gg)\n",
        "      else:\n",
        "        sc=svm.SVC(C=1.0, kernel=k)\n",
        "      score = cross_val_score(sc, X_train_1, y_train_1, cv=5, scoring='accuracy').mean()\n",
        "      if(score > max_accuracy):\n",
        "        max_accuracy = score\n",
        "        g = gg\n",
        "        num_degree = d\n",
        "        kernel_name = k\n",
        "\n",
        "print('the hyperparameters choosen are kernel=%s, degree=%s, gamma=%s and the max accuracy is %.3f' %(kernel_name,str(num_degree),g,max_accuracy))"
      ],
      "metadata": {
        "id": "eTHR5fKQ0puZ",
        "colab": {
          "base_uri": "https://localhost:8080/"
        },
        "outputId": "4f48966b-f055-415e-89c0-c669a9c37e7c"
      },
      "execution_count": null,
      "outputs": [
        {
          "output_type": "stream",
          "name": "stdout",
          "text": [
            "the hyperparameters choosen are kernel=poly, degree=1, gamma=scale and the max accuracy is 0.989\n"
          ]
        }
      ]
    },
    {
      "cell_type": "code",
      "source": [
        "svm_c_1 = svm.SVC(C=1.0, kernel='poly', degree=1, gamma='scale')"
      ],
      "metadata": {
        "id": "vHCyYjIEQhD5"
      },
      "execution_count": null,
      "outputs": []
    },
    {
      "cell_type": "markdown",
      "source": [
        "**KNN**"
      ],
      "metadata": {
        "id": "kNkSKDgDi_pL"
      }
    },
    {
      "cell_type": "code",
      "source": [
        "#hyperparameters: number of nearest neighbors, weight function, Algorithm used to compute the nearest neighbors\n",
        "neighbors_range = np.array(range(1,11))\n",
        "weight_set = ['uniform','distance']\n",
        "algorithms = ['auto', 'ball_tree', 'kd_tree', 'brute']\n",
        "#K-Fold Cross-Validation\n",
        "\n",
        "num_neighbors = neighbors_range[0]\n",
        "weight_type = weight_set[0]\n",
        "alg = algorithms[0]\n",
        "max_accuracy=0.0\n",
        "\n",
        "for n in neighbors_range:\n",
        "  for w in weight_set:\n",
        "    for a in algorithms:\n",
        "      nn=KNeighborsClassifier(n_neighbors=n, weights=w, algorithm=a)\n",
        "      score = cross_val_score(nn, X_train_1, y_train_1, cv=5, scoring='accuracy').mean()\n",
        "      if(score > max_accuracy):\n",
        "        max_accuracy = score\n",
        "        num_neighbors = n\n",
        "        weight_type = w\n",
        "        alg = a\n",
        "\n",
        "print('the hyperparameters choosen are number of neighbors=%s, algorithm=%s, weights=%s and the max accuracy is %.3f' %(str(num_neighbors),alg,weight_type,max_accuracy))"
      ],
      "metadata": {
        "id": "xOUqCkgejEty",
        "colab": {
          "base_uri": "https://localhost:8080/"
        },
        "outputId": "bb10038b-6598-4d40-9ed5-c3f21738a563"
      },
      "execution_count": null,
      "outputs": [
        {
          "output_type": "stream",
          "name": "stdout",
          "text": [
            "the hyperparameters choosen are number of neighbors=9, algorithm=uniform, depth=auto and the max accuracy is 0.988\n"
          ]
        }
      ]
    },
    {
      "cell_type": "code",
      "source": [
        "knn_1 = KNeighborsClassifier(n_neighbors=9, weights='uniform', algorithm='auto')"
      ],
      "metadata": {
        "id": "HRSoqJazQsia"
      },
      "execution_count": null,
      "outputs": []
    },
    {
      "cell_type": "markdown",
      "source": [
        "##Fit the models"
      ],
      "metadata": {
        "id": "IBOiQBZ8efwz"
      }
    },
    {
      "cell_type": "code",
      "source": [
        "decision_tree_1.fit(X_train_1, y_train_1)"
      ],
      "metadata": {
        "colab": {
          "base_uri": "https://localhost:8080/",
          "height": 74
        },
        "id": "hiii8jMXeiw7",
        "outputId": "f6bb37c4-1bbb-44ab-8160-12e9b211e24c"
      },
      "execution_count": null,
      "outputs": [
        {
          "output_type": "execute_result",
          "data": {
            "text/plain": [
              "DecisionTreeClassifier(max_depth=12)"
            ],
            "text/html": [
              "<style>#sk-container-id-1 {color: black;background-color: white;}#sk-container-id-1 pre{padding: 0;}#sk-container-id-1 div.sk-toggleable {background-color: white;}#sk-container-id-1 label.sk-toggleable__label {cursor: pointer;display: block;width: 100%;margin-bottom: 0;padding: 0.3em;box-sizing: border-box;text-align: center;}#sk-container-id-1 label.sk-toggleable__label-arrow:before {content: \"▸\";float: left;margin-right: 0.25em;color: #696969;}#sk-container-id-1 label.sk-toggleable__label-arrow:hover:before {color: black;}#sk-container-id-1 div.sk-estimator:hover label.sk-toggleable__label-arrow:before {color: black;}#sk-container-id-1 div.sk-toggleable__content {max-height: 0;max-width: 0;overflow: hidden;text-align: left;background-color: #f0f8ff;}#sk-container-id-1 div.sk-toggleable__content pre {margin: 0.2em;color: black;border-radius: 0.25em;background-color: #f0f8ff;}#sk-container-id-1 input.sk-toggleable__control:checked~div.sk-toggleable__content {max-height: 200px;max-width: 100%;overflow: auto;}#sk-container-id-1 input.sk-toggleable__control:checked~label.sk-toggleable__label-arrow:before {content: \"▾\";}#sk-container-id-1 div.sk-estimator input.sk-toggleable__control:checked~label.sk-toggleable__label {background-color: #d4ebff;}#sk-container-id-1 div.sk-label input.sk-toggleable__control:checked~label.sk-toggleable__label {background-color: #d4ebff;}#sk-container-id-1 input.sk-hidden--visually {border: 0;clip: rect(1px 1px 1px 1px);clip: rect(1px, 1px, 1px, 1px);height: 1px;margin: -1px;overflow: hidden;padding: 0;position: absolute;width: 1px;}#sk-container-id-1 div.sk-estimator {font-family: monospace;background-color: #f0f8ff;border: 1px dotted black;border-radius: 0.25em;box-sizing: border-box;margin-bottom: 0.5em;}#sk-container-id-1 div.sk-estimator:hover {background-color: #d4ebff;}#sk-container-id-1 div.sk-parallel-item::after {content: \"\";width: 100%;border-bottom: 1px solid gray;flex-grow: 1;}#sk-container-id-1 div.sk-label:hover label.sk-toggleable__label {background-color: #d4ebff;}#sk-container-id-1 div.sk-serial::before {content: \"\";position: absolute;border-left: 1px solid gray;box-sizing: border-box;top: 0;bottom: 0;left: 50%;z-index: 0;}#sk-container-id-1 div.sk-serial {display: flex;flex-direction: column;align-items: center;background-color: white;padding-right: 0.2em;padding-left: 0.2em;position: relative;}#sk-container-id-1 div.sk-item {position: relative;z-index: 1;}#sk-container-id-1 div.sk-parallel {display: flex;align-items: stretch;justify-content: center;background-color: white;position: relative;}#sk-container-id-1 div.sk-item::before, #sk-container-id-1 div.sk-parallel-item::before {content: \"\";position: absolute;border-left: 1px solid gray;box-sizing: border-box;top: 0;bottom: 0;left: 50%;z-index: -1;}#sk-container-id-1 div.sk-parallel-item {display: flex;flex-direction: column;z-index: 1;position: relative;background-color: white;}#sk-container-id-1 div.sk-parallel-item:first-child::after {align-self: flex-end;width: 50%;}#sk-container-id-1 div.sk-parallel-item:last-child::after {align-self: flex-start;width: 50%;}#sk-container-id-1 div.sk-parallel-item:only-child::after {width: 0;}#sk-container-id-1 div.sk-dashed-wrapped {border: 1px dashed gray;margin: 0 0.4em 0.5em 0.4em;box-sizing: border-box;padding-bottom: 0.4em;background-color: white;}#sk-container-id-1 div.sk-label label {font-family: monospace;font-weight: bold;display: inline-block;line-height: 1.2em;}#sk-container-id-1 div.sk-label-container {text-align: center;}#sk-container-id-1 div.sk-container {/* jupyter's `normalize.less` sets `[hidden] { display: none; }` but bootstrap.min.css set `[hidden] { display: none !important; }` so we also need the `!important` here to be able to override the default hidden behavior on the sphinx rendered scikit-learn.org. See: https://github.com/scikit-learn/scikit-learn/issues/21755 */display: inline-block !important;position: relative;}#sk-container-id-1 div.sk-text-repr-fallback {display: none;}</style><div id=\"sk-container-id-1\" class=\"sk-top-container\"><div class=\"sk-text-repr-fallback\"><pre>DecisionTreeClassifier(max_depth=12)</pre><b>In a Jupyter environment, please rerun this cell to show the HTML representation or trust the notebook. <br />On GitHub, the HTML representation is unable to render, please try loading this page with nbviewer.org.</b></div><div class=\"sk-container\" hidden><div class=\"sk-item\"><div class=\"sk-estimator sk-toggleable\"><input class=\"sk-toggleable__control sk-hidden--visually\" id=\"sk-estimator-id-1\" type=\"checkbox\" checked><label for=\"sk-estimator-id-1\" class=\"sk-toggleable__label sk-toggleable__label-arrow\">DecisionTreeClassifier</label><div class=\"sk-toggleable__content\"><pre>DecisionTreeClassifier(max_depth=12)</pre></div></div></div></div></div>"
            ]
          },
          "metadata": {},
          "execution_count": 15
        }
      ]
    },
    {
      "cell_type": "code",
      "source": [
        "svm_c_1.fit(X_train_1, y_train_1)"
      ],
      "metadata": {
        "colab": {
          "base_uri": "https://localhost:8080/",
          "height": 74
        },
        "id": "LvuGmEvz1pnk",
        "outputId": "20812ca2-6cfb-42c8-be1c-3b07f7a88e89"
      },
      "execution_count": null,
      "outputs": [
        {
          "output_type": "execute_result",
          "data": {
            "text/plain": [
              "SVC(degree=1, kernel='poly')"
            ],
            "text/html": [
              "<style>#sk-container-id-1 {color: black;background-color: white;}#sk-container-id-1 pre{padding: 0;}#sk-container-id-1 div.sk-toggleable {background-color: white;}#sk-container-id-1 label.sk-toggleable__label {cursor: pointer;display: block;width: 100%;margin-bottom: 0;padding: 0.3em;box-sizing: border-box;text-align: center;}#sk-container-id-1 label.sk-toggleable__label-arrow:before {content: \"▸\";float: left;margin-right: 0.25em;color: #696969;}#sk-container-id-1 label.sk-toggleable__label-arrow:hover:before {color: black;}#sk-container-id-1 div.sk-estimator:hover label.sk-toggleable__label-arrow:before {color: black;}#sk-container-id-1 div.sk-toggleable__content {max-height: 0;max-width: 0;overflow: hidden;text-align: left;background-color: #f0f8ff;}#sk-container-id-1 div.sk-toggleable__content pre {margin: 0.2em;color: black;border-radius: 0.25em;background-color: #f0f8ff;}#sk-container-id-1 input.sk-toggleable__control:checked~div.sk-toggleable__content {max-height: 200px;max-width: 100%;overflow: auto;}#sk-container-id-1 input.sk-toggleable__control:checked~label.sk-toggleable__label-arrow:before {content: \"▾\";}#sk-container-id-1 div.sk-estimator input.sk-toggleable__control:checked~label.sk-toggleable__label {background-color: #d4ebff;}#sk-container-id-1 div.sk-label input.sk-toggleable__control:checked~label.sk-toggleable__label {background-color: #d4ebff;}#sk-container-id-1 input.sk-hidden--visually {border: 0;clip: rect(1px 1px 1px 1px);clip: rect(1px, 1px, 1px, 1px);height: 1px;margin: -1px;overflow: hidden;padding: 0;position: absolute;width: 1px;}#sk-container-id-1 div.sk-estimator {font-family: monospace;background-color: #f0f8ff;border: 1px dotted black;border-radius: 0.25em;box-sizing: border-box;margin-bottom: 0.5em;}#sk-container-id-1 div.sk-estimator:hover {background-color: #d4ebff;}#sk-container-id-1 div.sk-parallel-item::after {content: \"\";width: 100%;border-bottom: 1px solid gray;flex-grow: 1;}#sk-container-id-1 div.sk-label:hover label.sk-toggleable__label {background-color: #d4ebff;}#sk-container-id-1 div.sk-serial::before {content: \"\";position: absolute;border-left: 1px solid gray;box-sizing: border-box;top: 0;bottom: 0;left: 50%;z-index: 0;}#sk-container-id-1 div.sk-serial {display: flex;flex-direction: column;align-items: center;background-color: white;padding-right: 0.2em;padding-left: 0.2em;position: relative;}#sk-container-id-1 div.sk-item {position: relative;z-index: 1;}#sk-container-id-1 div.sk-parallel {display: flex;align-items: stretch;justify-content: center;background-color: white;position: relative;}#sk-container-id-1 div.sk-item::before, #sk-container-id-1 div.sk-parallel-item::before {content: \"\";position: absolute;border-left: 1px solid gray;box-sizing: border-box;top: 0;bottom: 0;left: 50%;z-index: -1;}#sk-container-id-1 div.sk-parallel-item {display: flex;flex-direction: column;z-index: 1;position: relative;background-color: white;}#sk-container-id-1 div.sk-parallel-item:first-child::after {align-self: flex-end;width: 50%;}#sk-container-id-1 div.sk-parallel-item:last-child::after {align-self: flex-start;width: 50%;}#sk-container-id-1 div.sk-parallel-item:only-child::after {width: 0;}#sk-container-id-1 div.sk-dashed-wrapped {border: 1px dashed gray;margin: 0 0.4em 0.5em 0.4em;box-sizing: border-box;padding-bottom: 0.4em;background-color: white;}#sk-container-id-1 div.sk-label label {font-family: monospace;font-weight: bold;display: inline-block;line-height: 1.2em;}#sk-container-id-1 div.sk-label-container {text-align: center;}#sk-container-id-1 div.sk-container {/* jupyter's `normalize.less` sets `[hidden] { display: none; }` but bootstrap.min.css set `[hidden] { display: none !important; }` so we also need the `!important` here to be able to override the default hidden behavior on the sphinx rendered scikit-learn.org. See: https://github.com/scikit-learn/scikit-learn/issues/21755 */display: inline-block !important;position: relative;}#sk-container-id-1 div.sk-text-repr-fallback {display: none;}</style><div id=\"sk-container-id-1\" class=\"sk-top-container\"><div class=\"sk-text-repr-fallback\"><pre>SVC(degree=1, kernel=&#x27;poly&#x27;)</pre><b>In a Jupyter environment, please rerun this cell to show the HTML representation or trust the notebook. <br />On GitHub, the HTML representation is unable to render, please try loading this page with nbviewer.org.</b></div><div class=\"sk-container\" hidden><div class=\"sk-item\"><div class=\"sk-estimator sk-toggleable\"><input class=\"sk-toggleable__control sk-hidden--visually\" id=\"sk-estimator-id-1\" type=\"checkbox\" checked><label for=\"sk-estimator-id-1\" class=\"sk-toggleable__label sk-toggleable__label-arrow\">SVC</label><div class=\"sk-toggleable__content\"><pre>SVC(degree=1, kernel=&#x27;poly&#x27;)</pre></div></div></div></div></div>"
            ]
          },
          "metadata": {},
          "execution_count": 11
        }
      ]
    },
    {
      "cell_type": "code",
      "source": [
        "knn_1.fit(X_train_1, y_train_1)"
      ],
      "metadata": {
        "colab": {
          "base_uri": "https://localhost:8080/",
          "height": 74
        },
        "id": "353C_-QslSwe",
        "outputId": "d45d3577-4504-475f-cfdb-88dee507078a"
      },
      "execution_count": null,
      "outputs": [
        {
          "output_type": "execute_result",
          "data": {
            "text/plain": [
              "KNeighborsClassifier(n_neighbors=9)"
            ],
            "text/html": [
              "<style>#sk-container-id-3 {color: black;background-color: white;}#sk-container-id-3 pre{padding: 0;}#sk-container-id-3 div.sk-toggleable {background-color: white;}#sk-container-id-3 label.sk-toggleable__label {cursor: pointer;display: block;width: 100%;margin-bottom: 0;padding: 0.3em;box-sizing: border-box;text-align: center;}#sk-container-id-3 label.sk-toggleable__label-arrow:before {content: \"▸\";float: left;margin-right: 0.25em;color: #696969;}#sk-container-id-3 label.sk-toggleable__label-arrow:hover:before {color: black;}#sk-container-id-3 div.sk-estimator:hover label.sk-toggleable__label-arrow:before {color: black;}#sk-container-id-3 div.sk-toggleable__content {max-height: 0;max-width: 0;overflow: hidden;text-align: left;background-color: #f0f8ff;}#sk-container-id-3 div.sk-toggleable__content pre {margin: 0.2em;color: black;border-radius: 0.25em;background-color: #f0f8ff;}#sk-container-id-3 input.sk-toggleable__control:checked~div.sk-toggleable__content {max-height: 200px;max-width: 100%;overflow: auto;}#sk-container-id-3 input.sk-toggleable__control:checked~label.sk-toggleable__label-arrow:before {content: \"▾\";}#sk-container-id-3 div.sk-estimator input.sk-toggleable__control:checked~label.sk-toggleable__label {background-color: #d4ebff;}#sk-container-id-3 div.sk-label input.sk-toggleable__control:checked~label.sk-toggleable__label {background-color: #d4ebff;}#sk-container-id-3 input.sk-hidden--visually {border: 0;clip: rect(1px 1px 1px 1px);clip: rect(1px, 1px, 1px, 1px);height: 1px;margin: -1px;overflow: hidden;padding: 0;position: absolute;width: 1px;}#sk-container-id-3 div.sk-estimator {font-family: monospace;background-color: #f0f8ff;border: 1px dotted black;border-radius: 0.25em;box-sizing: border-box;margin-bottom: 0.5em;}#sk-container-id-3 div.sk-estimator:hover {background-color: #d4ebff;}#sk-container-id-3 div.sk-parallel-item::after {content: \"\";width: 100%;border-bottom: 1px solid gray;flex-grow: 1;}#sk-container-id-3 div.sk-label:hover label.sk-toggleable__label {background-color: #d4ebff;}#sk-container-id-3 div.sk-serial::before {content: \"\";position: absolute;border-left: 1px solid gray;box-sizing: border-box;top: 0;bottom: 0;left: 50%;z-index: 0;}#sk-container-id-3 div.sk-serial {display: flex;flex-direction: column;align-items: center;background-color: white;padding-right: 0.2em;padding-left: 0.2em;position: relative;}#sk-container-id-3 div.sk-item {position: relative;z-index: 1;}#sk-container-id-3 div.sk-parallel {display: flex;align-items: stretch;justify-content: center;background-color: white;position: relative;}#sk-container-id-3 div.sk-item::before, #sk-container-id-3 div.sk-parallel-item::before {content: \"\";position: absolute;border-left: 1px solid gray;box-sizing: border-box;top: 0;bottom: 0;left: 50%;z-index: -1;}#sk-container-id-3 div.sk-parallel-item {display: flex;flex-direction: column;z-index: 1;position: relative;background-color: white;}#sk-container-id-3 div.sk-parallel-item:first-child::after {align-self: flex-end;width: 50%;}#sk-container-id-3 div.sk-parallel-item:last-child::after {align-self: flex-start;width: 50%;}#sk-container-id-3 div.sk-parallel-item:only-child::after {width: 0;}#sk-container-id-3 div.sk-dashed-wrapped {border: 1px dashed gray;margin: 0 0.4em 0.5em 0.4em;box-sizing: border-box;padding-bottom: 0.4em;background-color: white;}#sk-container-id-3 div.sk-label label {font-family: monospace;font-weight: bold;display: inline-block;line-height: 1.2em;}#sk-container-id-3 div.sk-label-container {text-align: center;}#sk-container-id-3 div.sk-container {/* jupyter's `normalize.less` sets `[hidden] { display: none; }` but bootstrap.min.css set `[hidden] { display: none !important; }` so we also need the `!important` here to be able to override the default hidden behavior on the sphinx rendered scikit-learn.org. See: https://github.com/scikit-learn/scikit-learn/issues/21755 */display: inline-block !important;position: relative;}#sk-container-id-3 div.sk-text-repr-fallback {display: none;}</style><div id=\"sk-container-id-3\" class=\"sk-top-container\"><div class=\"sk-text-repr-fallback\"><pre>KNeighborsClassifier(n_neighbors=9)</pre><b>In a Jupyter environment, please rerun this cell to show the HTML representation or trust the notebook. <br />On GitHub, the HTML representation is unable to render, please try loading this page with nbviewer.org.</b></div><div class=\"sk-container\" hidden><div class=\"sk-item\"><div class=\"sk-estimator sk-toggleable\"><input class=\"sk-toggleable__control sk-hidden--visually\" id=\"sk-estimator-id-3\" type=\"checkbox\" checked><label for=\"sk-estimator-id-3\" class=\"sk-toggleable__label sk-toggleable__label-arrow\">KNeighborsClassifier</label><div class=\"sk-toggleable__content\"><pre>KNeighborsClassifier(n_neighbors=9)</pre></div></div></div></div></div>"
            ]
          },
          "metadata": {},
          "execution_count": 17
        }
      ]
    },
    {
      "cell_type": "markdown",
      "source": [
        "##Evaluate the models"
      ],
      "metadata": {
        "id": "71PlWf6xfvOD"
      }
    },
    {
      "cell_type": "markdown",
      "source": [
        "###Accuracy"
      ],
      "metadata": {
        "id": "aPVAFMCAgVJB"
      }
    },
    {
      "cell_type": "code",
      "source": [
        "acc1_1 = decision_tree_1.score(X_test_1, y_test_1)\n",
        "print(\"Accuracy of decision tree is %.3f\" %acc1_1)"
      ],
      "metadata": {
        "colab": {
          "base_uri": "https://localhost:8080/"
        },
        "id": "CALYu96zfyKE",
        "outputId": "0487afe1-d6e0-410e-a8d6-459cd6729c66"
      },
      "execution_count": null,
      "outputs": [
        {
          "output_type": "stream",
          "name": "stdout",
          "text": [
            "Accuracy of decision tree is 0.978\n"
          ]
        }
      ]
    },
    {
      "cell_type": "code",
      "source": [
        "acc2_1 = svm_c_1.score(X_test_1, y_test_1)\n",
        "print(\"Accuracy of SVM is %.3f\" %acc2_1)"
      ],
      "metadata": {
        "colab": {
          "base_uri": "https://localhost:8080/"
        },
        "id": "UV0DuiXq148e",
        "outputId": "3679062f-0b4d-4790-908f-804f045215a0"
      },
      "execution_count": null,
      "outputs": [
        {
          "output_type": "stream",
          "name": "stdout",
          "text": [
            "Accuracy of SVM is 0.988\n"
          ]
        }
      ]
    },
    {
      "cell_type": "code",
      "source": [
        "acc3_1 = knn_1.score(X_test_1, y_test_1)\n",
        "print(\"Accuracy of KNN is %.3f\" %acc3_1)"
      ],
      "metadata": {
        "colab": {
          "base_uri": "https://localhost:8080/"
        },
        "id": "TEUtOIS4llan",
        "outputId": "cd863bdc-cec0-4468-d7f9-8bc70ac2fcb4"
      },
      "execution_count": null,
      "outputs": [
        {
          "output_type": "stream",
          "name": "stdout",
          "text": [
            "Accuracy of KNN is 0.988\n"
          ]
        }
      ]
    },
    {
      "cell_type": "markdown",
      "source": [
        "###Precision and Recall"
      ],
      "metadata": {
        "id": "nsJNl6yYgZL5"
      }
    },
    {
      "cell_type": "code",
      "source": [
        "print(\"Precision and Recall table of decision tree is:\")\n",
        "print(classification_report(y_test_1, decision_tree_1.predict(X_test_1), labels=None, target_names=['0','1','2','3','4','5','6','7','8','9'], digits=3))"
      ],
      "metadata": {
        "colab": {
          "base_uri": "https://localhost:8080/"
        },
        "id": "jHQ12qbEgg3V",
        "outputId": "8f27faf4-d7a5-437b-be32-b0d7fad88c7a"
      },
      "execution_count": null,
      "outputs": [
        {
          "output_type": "stream",
          "name": "stdout",
          "text": [
            "Precision and Recall table of decision tree is:\n",
            "              precision    recall  f1-score   support\n",
            "\n",
            "           0      0.987     0.986     0.986      1036\n",
            "           1      0.993     0.992     0.993      1008\n",
            "           2      0.974     0.977     0.975       998\n",
            "           3      0.941     0.941     0.941       958\n",
            "           4      0.981     0.975     0.978       981\n",
            "           5      0.954     0.957     0.955      1019\n",
            "           6      0.977     0.989     0.983      1010\n",
            "           7      0.986     0.985     0.985       969\n",
            "           8      0.997     0.990     0.993       998\n",
            "           9      0.990     0.990     0.990      1023\n",
            "\n",
            "    accuracy                          0.978     10000\n",
            "   macro avg      0.978     0.978     0.978     10000\n",
            "weighted avg      0.978     0.978     0.978     10000\n",
            "\n"
          ]
        }
      ]
    },
    {
      "cell_type": "code",
      "source": [
        "print(\"Precision and Recall table of SVM is:\")\n",
        "print(classification_report(y_test_1, svm_c_1.predict(X_test_1), labels=None, target_names=['0','1','2','3','4','5','6','7','8','9'], digits=3))"
      ],
      "metadata": {
        "colab": {
          "base_uri": "https://localhost:8080/"
        },
        "id": "jYnRUbF72D85",
        "outputId": "217cb2e9-1849-4e6b-847f-7c41b3f52668"
      },
      "execution_count": null,
      "outputs": [
        {
          "output_type": "stream",
          "name": "stdout",
          "text": [
            "Precision and Recall table of SVM is:\n",
            "              precision    recall  f1-score   support\n",
            "\n",
            "           0      0.993     0.991     0.992      1036\n",
            "           1      0.997     0.994     0.996      1008\n",
            "           2      0.991     0.988     0.989       998\n",
            "           3      0.960     0.965     0.963       958\n",
            "           4      0.991     0.993     0.992       981\n",
            "           5      0.969     0.965     0.967      1019\n",
            "           6      0.997     0.998     0.998      1010\n",
            "           7      0.992     0.993     0.992       969\n",
            "           8      0.996     0.997     0.996       998\n",
            "           9      0.993     0.997     0.995      1023\n",
            "\n",
            "    accuracy                          0.988     10000\n",
            "   macro avg      0.988     0.988     0.988     10000\n",
            "weighted avg      0.988     0.988     0.988     10000\n",
            "\n"
          ]
        }
      ]
    },
    {
      "cell_type": "code",
      "source": [
        "print(\"Precision and Recall table of KNN is:\")\n",
        "print(classification_report(y_test_1, knn_1.predict(X_test_1), labels=None, target_names=['0','1','2','3','4','5','6','7','8','9'], digits=3))"
      ],
      "metadata": {
        "colab": {
          "base_uri": "https://localhost:8080/"
        },
        "id": "9wtE_zARl0Mf",
        "outputId": "5334da9b-6abb-4736-81ec-963f49eea408"
      },
      "execution_count": null,
      "outputs": [
        {
          "output_type": "stream",
          "name": "stdout",
          "text": [
            "Precision and Recall table of KNN is:\n",
            "              precision    recall  f1-score   support\n",
            "\n",
            "           0      0.995     0.991     0.993      1036\n",
            "           1      0.998     0.996     0.997      1008\n",
            "           2      0.987     0.989     0.988       998\n",
            "           3      0.955     0.958     0.957       958\n",
            "           4      0.989     0.996     0.992       981\n",
            "           5      0.968     0.961     0.965      1019\n",
            "           6      0.995     0.997     0.996      1010\n",
            "           7      0.995     0.994     0.994       969\n",
            "           8      0.997     0.997     0.997       998\n",
            "           9      0.995     0.996     0.996      1023\n",
            "\n",
            "    accuracy                          0.988     10000\n",
            "   macro avg      0.987     0.988     0.987     10000\n",
            "weighted avg      0.988     0.988     0.988     10000\n",
            "\n"
          ]
        }
      ]
    },
    {
      "cell_type": "markdown",
      "source": [
        "###Confusion Matrix"
      ],
      "metadata": {
        "id": "cNEh3mIdiusV"
      }
    },
    {
      "cell_type": "code",
      "source": [
        "cmd_1 = confusion_matrix(y_test_1, decision_tree_1.predict(X_test_1), labels=None, sample_weight=None)\n",
        "print(cmd_1)\n",
        "plt.rcParams[\"figure.figsize\"] = (8,8)\n",
        "plot_confusion_matrix(y_test_1, decision_tree_1.predict(X_test_1), classes=['0','1','2','3','4','5','6','7','8','9'], normalize=False, title='Confusion matrix of decision tree')"
      ],
      "metadata": {
        "colab": {
          "base_uri": "https://localhost:8080/",
          "height": 998
        },
        "id": "ajWKwWxLiz4K",
        "outputId": "c4cc05db-caf6-454e-f657-52b067a4056e"
      },
      "execution_count": null,
      "outputs": [
        {
          "output_type": "stream",
          "name": "stdout",
          "text": [
            "[[1021    1    5    1    1    1    2    0    1    3]\n",
            " [   1 1000    0    1    0    1    1    0    1    3]\n",
            " [   7    0  975    5    3    3    3    2    0    0]\n",
            " [   0    0    9  901    3   28   10    4    0    3]\n",
            " [   0    0    7    9  956    2    3    4    0    0]\n",
            " [   0    0    2   30    5  975    4    3    0    0]\n",
            " [   0    0    2    4    3    2  999    0    0    0]\n",
            " [   1    0    0    3    3    7    0  954    1    0]\n",
            " [   3    1    1    2    1    1    0    0  988    1]\n",
            " [   1    5    0    1    0    2    0    1    0 1013]]\n"
          ]
        },
        {
          "output_type": "execute_result",
          "data": {
            "text/plain": [
              "<Axes: title={'center': 'Confusion matrix of decision tree'}, xlabel='Predicted label', ylabel='True label'>"
            ]
          },
          "metadata": {},
          "execution_count": 24
        },
        {
          "output_type": "display_data",
          "data": {
            "text/plain": [
              "<Figure size 800x800 with 2 Axes>"
            ],
            "image/png": "[encoded data removed]"
          },
          "metadata": {}
        }
      ]
    },
    {
      "cell_type": "code",
      "source": [
        "cmsvm_1 = confusion_matrix(y_test_1, svm_c_1.predict(X_test_1), labels=None, sample_weight=None)\n",
        "print(cmsvm_1)\n",
        "plt.rcParams[\"figure.figsize\"] = (8,8)\n",
        "plot_confusion_matrix(y_test_1, svm_c_1.predict(X_test_1), classes=['0','1','2','3','4','5','6','7','8','9'], normalize=False, title='Confusion matrix of SVM')"
      ],
      "metadata": {
        "colab": {
          "base_uri": "https://localhost:8080/",
          "height": 998
        },
        "id": "Kqbf91mR2W91",
        "outputId": "4aedd740-59ad-476a-de8c-75d30bd19411"
      },
      "execution_count": null,
      "outputs": [
        {
          "output_type": "stream",
          "name": "stdout",
          "text": [
            "[[1027    0    4    0    0    0    0    0    2    3]\n",
            " [   0 1002    0    1    0    0    0    0    1    4]\n",
            " [   6    0  986    3    1    1    0    1    0    0]\n",
            " [   0    0    3  924    2   25    2    1    1    0]\n",
            " [   0    0    1    2  974    1    0    3    0    0]\n",
            " [   0    0    0   28    4  983    1    3    0    0]\n",
            " [   0    0    0    2    0    0 1008    0    0    0]\n",
            " [   1    0    0    1    1    4    0  962    0    0]\n",
            " [   0    0    1    1    1    0    0    0  995    0]\n",
            " [   0    3    0    0    0    0    0    0    0 1020]]\n"
          ]
        },
        {
          "output_type": "execute_result",
          "data": {
            "text/plain": [
              "<Axes: title={'center': 'Confusion matrix of SVM'}, xlabel='Predicted label', ylabel='True label'>"
            ]
          },
          "metadata": {},
          "execution_count": 25
        },
        {
          "output_type": "display_data",
          "data": {
            "text/plain": [
              "<Figure size 800x800 with 2 Axes>"
            ],
            "image/png": "[encoded data removed]"
          },
          "metadata": {}
        }
      ]
    },
    {
      "cell_type": "code",
      "source": [
        "cmknn_1 = confusion_matrix(y_test_1, knn_1.predict(X_test_1), labels=None, sample_weight=None)\n",
        "print(cmknn_1)\n",
        "plt.rcParams[\"figure.figsize\"] = (8,8)\n",
        "plot_confusion_matrix(y_test_1, knn_1.predict(X_test_1), classes=['0','1','2','3','4','5','6','7','8','9'], normalize=False, title='Confusion matrix of knn')"
      ],
      "metadata": {
        "colab": {
          "base_uri": "https://localhost:8080/",
          "height": 998
        },
        "id": "sy59mjOgmUdz",
        "outputId": "bd5793d4-7023-46e6-dbe7-89f745e93133"
      },
      "execution_count": null,
      "outputs": [
        {
          "output_type": "stream",
          "name": "stdout",
          "text": [
            "[[1027    0    5    0    0    0    0    0    2    2]\n",
            " [   0 1004    0    1    0    0    0    0    0    3]\n",
            " [   5    0  987    2    1    2    0    1    0    0]\n",
            " [   0    0    5  918    3   27    4    0    1    0]\n",
            " [   0    0    1    1  977    1    0    1    0    0]\n",
            " [   0    0    0   32    4  979    1    3    0    0]\n",
            " [   0    0    1    2    0    0 1007    0    0    0]\n",
            " [   0    0    0    2    2    2    0  963    0    0]\n",
            " [   0    0    1    1    1    0    0    0  995    0]\n",
            " [   0    2    0    2    0    0    0    0    0 1019]]\n"
          ]
        },
        {
          "output_type": "execute_result",
          "data": {
            "text/plain": [
              "<Axes: title={'center': 'Confusion matrix of knn'}, xlabel='Predicted label', ylabel='True label'>"
            ]
          },
          "metadata": {},
          "execution_count": 26
        },
        {
          "output_type": "display_data",
          "data": {
            "text/plain": [
              "<Figure size 800x800 with 2 Axes>"
            ],
            "image/png": "[encoded data removed]"
          },
          "metadata": {}
        }
      ]
    },
    {
      "cell_type": "markdown",
      "source": [
        "#DATASET 2"
      ],
      "metadata": {
        "id": "V7z6Q4jpA9Xg"
      }
    },
    {
      "cell_type": "markdown",
      "source": [
        "##Load Data"
      ],
      "metadata": {
        "id": "j7tnEL1CWv23"
      }
    },
    {
      "cell_type": "code",
      "source": [
        "X_2,Y_2 = load_data(\"/content/drive/MyDrive/Colab Notebooks/Machine Learning Exercises/Homework 1/dataset2.csv\")"
      ],
      "metadata": {
        "id": "keIRTswNBF4y"
      },
      "execution_count": null,
      "outputs": []
    },
    {
      "cell_type": "markdown",
      "source": [
        "##Preprocess"
      ],
      "metadata": {
        "id": "gy_IGm9MakGb"
      }
    },
    {
      "cell_type": "markdown",
      "source": [
        "Choose a type of preprocess for prepare the raw data so that it is suitable for training"
      ],
      "metadata": {
        "id": "xn9sM36Va2sp"
      }
    },
    {
      "cell_type": "code",
      "source": [
        "type_of_preprocessing = ['standard', 'minmax', 'normalize', None]\n",
        "metric_for_normalization = ['l1', 'l2', 'max']\n",
        "\n",
        "pre = type_of_preprocessing[0]\n",
        "\n",
        "if(pre == 'standard'):\n",
        "  scaler = preprocessing.StandardScaler()\n",
        "  scaler.fit_transform(X_2)\n",
        "elif(pre == 'minmax'):\n",
        "  scaler = preprocessing.MinMaxScaler()\n",
        "  scaler.fit_transform(X_2)\n",
        "elif(pre == 'normalize'):\n",
        "  n = metric_for_normalization[0] # used to normalize each non zero sample\n",
        "  X_2 = preprocessing.normalize(X_2,norm=n)"
      ],
      "metadata": {
        "id": "TclnRtevamXu"
      },
      "execution_count": null,
      "outputs": []
    },
    {
      "cell_type": "markdown",
      "source": [
        "**Print**"
      ],
      "metadata": {
        "id": "aoosuC4AbDGt"
      }
    },
    {
      "cell_type": "code",
      "source": [
        "print(\"Input shape: %s\" %str(X_2.shape))\n",
        "print(\"Output shape: %s\" %str(Y_2.shape))\n",
        "print(\"Number of attributes/features: %d\" %(X_2.shape[1]))\n",
        "print(\"Number of samples: %d\" %(X_2.shape[0]))\n",
        "\n",
        "# show an example\n",
        "id = random.randrange(0,X_2.shape[0])\n",
        "\n",
        "print(\"Example:\")\n",
        "print(\"x%d = %r\" %(id,X_2[id]))\n",
        "print(\"y%d = %r\" %(id,Y_2[id]))"
      ],
      "metadata": {
        "colab": {
          "base_uri": "https://localhost:8080/"
        },
        "id": "pyk-wvkfbIav",
        "outputId": "c05e2e74-ea4f-426f-cd6b-d58b4e9f3186"
      },
      "execution_count": null,
      "outputs": [
        {
          "output_type": "stream",
          "name": "stdout",
          "text": [
            "Input shape: (50000, 1000)\n",
            "Output shape: (50000,)\n",
            "Number of attributes/features: 1000\n",
            "Number of samples: 50000\n",
            "Example:\n",
            "x9841 = array([0.00000000e+00, 6.30812943e-01, 0.00000000e+00, 1.63079262e+00,\n",
            "       0.00000000e+00, 0.00000000e+00, 1.79547593e-01, 2.46614846e-03,\n",
            "       5.34803987e-01, 1.81018963e-01, 0.00000000e+00, 0.00000000e+00,\n",
            "       0.00000000e+00, 4.03868109e-01, 1.18698515e-01, 0.00000000e+00,\n",
            "       0.00000000e+00, 5.30377328e-02, 6.19286776e-01, 0.00000000e+00,\n",
            "       3.17451209e-01, 1.28383172e+00, 0.00000000e+00, 2.67147630e-01,\n",
            "       0.00000000e+00, 0.00000000e+00, 3.40605468e-01, 0.00000000e+00,\n",
            "       0.00000000e+00, 0.00000000e+00, 2.75716871e-01, 4.42667231e-02,\n",
            "       6.26858175e-02, 0.00000000e+00, 3.74372810e-01, 2.02545784e-02,\n",
            "       4.25970823e-01, 4.47072804e-01, 0.00000000e+00, 4.37925816e-01,\n",
            "       3.50047499e-01, 3.61281186e-01, 0.00000000e+00, 0.00000000e+00,\n",
            "       0.00000000e+00, 0.00000000e+00, 0.00000000e+00, 2.78946608e-01,\n",
            "       8.57362896e-02, 2.49371961e-01, 0.00000000e+00, 3.29735726e-01,\n",
            "       0.00000000e+00, 0.00000000e+00, 7.84768939e-01, 0.00000000e+00,\n",
            "       6.21872544e-01, 9.18281019e-01, 0.00000000e+00, 0.00000000e+00,\n",
            "       0.00000000e+00, 6.47563636e-01, 1.01111837e-01, 0.00000000e+00,\n",
            "       0.00000000e+00, 9.30351973e-01, 3.89456719e-01, 0.00000000e+00,\n",
            "       0.00000000e+00, 0.00000000e+00, 2.75986828e-02, 8.56933057e-01,\n",
            "       6.51784241e-01, 4.91348177e-01, 0.00000000e+00, 0.00000000e+00,\n",
            "       0.00000000e+00, 1.41722083e-01, 8.03202808e-01, 6.54942632e-01,\n",
            "       5.33387244e-01, 3.44201595e-01, 9.95734408e-02, 0.00000000e+00,\n",
            "       3.19509059e-01, 2.19175518e-01, 0.00000000e+00, 0.00000000e+00,\n",
            "       1.45731616e+00, 4.47535485e-01, 1.37237064e-03, 0.00000000e+00,\n",
            "       5.69384433e-02, 2.64541861e-02, 0.00000000e+00, 0.00000000e+00,\n",
            "       5.98051667e-01, 4.72778380e-01, 2.76786417e-01, 0.00000000e+00,\n",
            "       0.00000000e+00, 7.75395513e-01, 0.00000000e+00, 1.15843870e-01,\n",
            "       0.00000000e+00, 2.00397447e-01, 5.90036511e-02, 1.59225166e-01,\n",
            "       2.35732391e-01, 8.61579299e-01, 0.00000000e+00, 4.14028466e-01,\n",
            "       0.00000000e+00, 2.76450992e-01, 1.68875307e-01, 3.79658669e-01,\n",
            "       6.48414135e-01, 3.88526693e-02, 3.62883300e-01, 0.00000000e+00,\n",
            "       5.75253546e-01, 2.48650789e-01, 0.00000000e+00, 0.00000000e+00,\n",
            "       0.00000000e+00, 8.17957461e-01, 2.25321993e-01, 0.00000000e+00,\n",
            "       0.00000000e+00, 0.00000000e+00, 0.00000000e+00, 0.00000000e+00,\n",
            "       0.00000000e+00, 6.71428561e-01, 1.89225167e-01, 6.47650719e-01,\n",
            "       5.74478567e-01, 9.80081022e-01, 0.00000000e+00, 1.36740878e-01,\n",
            "       0.00000000e+00, 0.00000000e+00, 0.00000000e+00, 0.00000000e+00,\n",
            "       0.00000000e+00, 0.00000000e+00, 7.41635486e-02, 0.00000000e+00,\n",
            "       0.00000000e+00, 2.64400333e-01, 0.00000000e+00, 8.09146821e-01,\n",
            "       7.45979667e-01, 6.49905801e-02, 0.00000000e+00, 0.00000000e+00,\n",
            "       0.00000000e+00, 6.56801701e-01, 1.04143763e+00, 0.00000000e+00,\n",
            "       2.94903275e-02, 0.00000000e+00, 0.00000000e+00, 2.15742990e-01,\n",
            "       0.00000000e+00, 0.00000000e+00, 8.83982062e-01, 0.00000000e+00,\n",
            "       0.00000000e+00, 9.63330716e-02, 2.35276774e-01, 4.92020398e-01,\n",
            "       9.80716646e-01, 5.82639277e-01, 0.00000000e+00, 0.00000000e+00,\n",
            "       5.05759537e-01, 4.12295043e-01, 0.00000000e+00, 0.00000000e+00,\n",
            "       0.00000000e+00, 3.24701630e-02, 0.00000000e+00, 4.20764208e-01,\n",
            "       0.00000000e+00, 6.10733807e-01, 0.00000000e+00, 5.63386500e-01,\n",
            "       0.00000000e+00, 4.18214232e-01, 3.55439454e-01, 3.01275402e-01,\n",
            "       2.94077128e-01, 1.01997301e-01, 2.46593684e-01, 0.00000000e+00,\n",
            "       2.19203800e-01, 0.00000000e+00, 5.07742882e-01, 0.00000000e+00,\n",
            "       0.00000000e+00, 0.00000000e+00, 0.00000000e+00, 5.39665878e-01,\n",
            "       0.00000000e+00, 4.26769167e-01, 5.17339230e-01, 1.29060179e-01,\n",
            "       4.02364105e-01, 6.79042637e-01, 0.00000000e+00, 0.00000000e+00,\n",
            "       9.19219732e-01, 1.64090842e-01, 0.00000000e+00, 4.39041376e-01,\n",
            "       0.00000000e+00, 0.00000000e+00, 1.83342472e-01, 0.00000000e+00,\n",
            "       7.46161461e-01, 1.44976964e-02, 8.94610822e-01, 0.00000000e+00,\n",
            "       0.00000000e+00, 4.38267514e-02, 2.72514939e-01, 8.15643072e-01,\n",
            "       4.47530746e-02, 1.32131889e-01, 0.00000000e+00, 1.91306427e-01,\n",
            "       0.00000000e+00, 0.00000000e+00, 3.15341741e-01, 0.00000000e+00,\n",
            "       2.80025333e-01, 9.59220603e-02, 0.00000000e+00, 2.46787712e-01,\n",
            "       0.00000000e+00, 0.00000000e+00, 1.08770229e-01, 0.00000000e+00,\n",
            "       0.00000000e+00, 0.00000000e+00, 0.00000000e+00, 1.11109391e-01,\n",
            "       7.11403549e-01, 7.19048735e-03, 0.00000000e+00, 0.00000000e+00,\n",
            "       4.34668511e-02, 0.00000000e+00, 1.13787510e-01, 2.86649555e-01,\n",
            "       1.63947478e-01, 0.00000000e+00, 0.00000000e+00, 0.00000000e+00,\n",
            "       0.00000000e+00, 0.00000000e+00, 4.96990919e-01, 2.41958320e-01,\n",
            "       2.30402932e-01, 0.00000000e+00, 0.00000000e+00, 4.93687749e-01,\n",
            "       0.00000000e+00, 1.13339102e+00, 0.00000000e+00, 0.00000000e+00,\n",
            "       4.81008977e-01, 0.00000000e+00, 2.48699814e-01, 0.00000000e+00,\n",
            "       0.00000000e+00, 0.00000000e+00, 0.00000000e+00, 4.72615585e-02,\n",
            "       2.12602958e-01, 7.80307829e-01, 8.06592181e-02, 0.00000000e+00,\n",
            "       2.54509777e-01, 1.81217957e-03, 0.00000000e+00, 6.14124089e-02,\n",
            "       0.00000000e+00, 0.00000000e+00, 4.83073562e-01, 0.00000000e+00,\n",
            "       3.16079527e-01, 1.26587880e+00, 1.20277166e+00, 0.00000000e+00,\n",
            "       3.47329348e-01, 7.56539762e-01, 0.00000000e+00, 0.00000000e+00,\n",
            "       4.44628447e-01, 1.30599523e+00, 0.00000000e+00, 0.00000000e+00,\n",
            "       4.72139359e-01, 0.00000000e+00, 0.00000000e+00, 3.78974900e-02,\n",
            "       0.00000000e+00, 0.00000000e+00, 5.85360825e-03, 1.33464962e-01,\n",
            "       0.00000000e+00, 0.00000000e+00, 3.44216645e-01, 1.12005472e+00,\n",
            "       0.00000000e+00, 2.33017161e-01, 0.00000000e+00, 5.18866852e-02,\n",
            "       5.57761252e-01, 0.00000000e+00, 0.00000000e+00, 0.00000000e+00,\n",
            "       0.00000000e+00, 0.00000000e+00, 6.85406327e-01, 0.00000000e+00,\n",
            "       1.65851191e-01, 5.09304345e-01, 4.10489887e-01, 0.00000000e+00,\n",
            "       3.28096092e-01, 9.07152057e-01, 9.69387352e-01, 0.00000000e+00,\n",
            "       0.00000000e+00, 5.56061789e-02, 0.00000000e+00, 0.00000000e+00,\n",
            "       2.16270834e-01, 0.00000000e+00, 0.00000000e+00, 0.00000000e+00,\n",
            "       7.13010848e-01, 0.00000000e+00, 0.00000000e+00, 7.32974336e-02,\n",
            "       0.00000000e+00, 7.64462233e-01, 5.48305273e-01, 7.60122016e-02,\n",
            "       0.00000000e+00, 0.00000000e+00, 0.00000000e+00, 5.30577362e-01,\n",
            "       0.00000000e+00, 3.45563084e-01, 5.03235996e-01, 4.44740951e-01,\n",
            "       0.00000000e+00, 2.20785305e-01, 0.00000000e+00, 8.34783792e-01,\n",
            "       0.00000000e+00, 3.46997201e-01, 0.00000000e+00, 0.00000000e+00,\n",
            "       6.08614028e-01, 1.88917547e-01, 1.86773092e-01, 0.00000000e+00,\n",
            "       4.87225093e-02, 0.00000000e+00, 5.29689550e-01, 0.00000000e+00,\n",
            "       2.90172637e-01, 0.00000000e+00, 3.47505435e-02, 8.32636654e-01,\n",
            "       0.00000000e+00, 2.24989817e-01, 0.00000000e+00, 0.00000000e+00,\n",
            "       0.00000000e+00, 0.00000000e+00, 0.00000000e+00, 0.00000000e+00,\n",
            "       0.00000000e+00, 5.05812049e-01, 4.03910607e-01, 0.00000000e+00,\n",
            "       3.02923083e-01, 0.00000000e+00, 0.00000000e+00, 9.25698206e-02,\n",
            "       1.17268525e-01, 0.00000000e+00, 0.00000000e+00, 0.00000000e+00,\n",
            "       7.54678488e-01, 4.16212939e-02, 0.00000000e+00, 0.00000000e+00,\n",
            "       0.00000000e+00, 4.78994548e-01, 1.38939127e-01, 5.22220433e-01,\n",
            "       1.00298119e+00, 1.36204153e-01, 1.17888033e-01, 4.18112606e-01,\n",
            "       0.00000000e+00, 0.00000000e+00, 1.00677466e+00, 0.00000000e+00,\n",
            "       4.65567112e-02, 4.30167556e-01, 0.00000000e+00, 0.00000000e+00,\n",
            "       9.37048137e-01, 4.50357854e-01, 0.00000000e+00, 0.00000000e+00,\n",
            "       5.98134279e-01, 3.49436134e-01, 6.85573742e-02, 0.00000000e+00,\n",
            "       0.00000000e+00, 0.00000000e+00, 2.67347068e-01, 0.00000000e+00,\n",
            "       6.28763855e-01, 0.00000000e+00, 2.27141753e-01, 7.53894210e-01,\n",
            "       3.01338553e-01, 5.53112388e-01, 0.00000000e+00, 0.00000000e+00,\n",
            "       8.29537511e-02, 8.31098139e-01, 9.03648362e-02, 0.00000000e+00,\n",
            "       0.00000000e+00, 1.46460459e-01, 9.11544310e-04, 1.98313192e-01,\n",
            "       4.83172417e-01, 4.55105811e-01, 0.00000000e+00, 0.00000000e+00,\n",
            "       0.00000000e+00, 0.00000000e+00, 0.00000000e+00, 0.00000000e+00,\n",
            "       0.00000000e+00, 0.00000000e+00, 0.00000000e+00, 6.75424993e-01,\n",
            "       1.05910771e-01, 5.27767360e-01, 0.00000000e+00, 0.00000000e+00,\n",
            "       0.00000000e+00, 0.00000000e+00, 3.92426074e-01, 4.07086164e-01,\n",
            "       0.00000000e+00, 0.00000000e+00, 0.00000000e+00, 0.00000000e+00,\n",
            "       0.00000000e+00, 0.00000000e+00, 1.07272752e-01, 0.00000000e+00,\n",
            "       0.00000000e+00, 0.00000000e+00, 0.00000000e+00, 0.00000000e+00,\n",
            "       7.24089026e-01, 0.00000000e+00, 3.95950973e-01, 1.73732817e-01,\n",
            "       0.00000000e+00, 0.00000000e+00, 6.12549305e-01, 0.00000000e+00,\n",
            "       5.18385768e-01, 0.00000000e+00, 5.93920350e-01, 0.00000000e+00,\n",
            "       1.59929007e-01, 0.00000000e+00, 0.00000000e+00, 3.78611982e-01,\n",
            "       0.00000000e+00, 0.00000000e+00, 4.70805466e-01, 0.00000000e+00,\n",
            "       1.88008860e-01, 0.00000000e+00, 0.00000000e+00, 6.20912075e-01,\n",
            "       1.47045684e+00, 0.00000000e+00, 4.31483209e-01, 3.65466356e-01,\n",
            "       0.00000000e+00, 0.00000000e+00, 0.00000000e+00, 0.00000000e+00,\n",
            "       0.00000000e+00, 0.00000000e+00, 1.16390991e-03, 0.00000000e+00,\n",
            "       3.65192413e-01, 0.00000000e+00, 1.38326675e-01, 1.53932810e-01,\n",
            "       0.00000000e+00, 1.15764499e+00, 0.00000000e+00, 3.41106325e-01,\n",
            "       0.00000000e+00, 0.00000000e+00, 3.04947048e-01, 0.00000000e+00,\n",
            "       0.00000000e+00, 1.59499180e-02, 2.64547050e-01, 0.00000000e+00,\n",
            "       0.00000000e+00, 0.00000000e+00, 5.39291561e-01, 0.00000000e+00,\n",
            "       0.00000000e+00, 0.00000000e+00, 4.94934142e-01, 0.00000000e+00,\n",
            "       0.00000000e+00, 6.10527024e-02, 0.00000000e+00, 0.00000000e+00,\n",
            "       0.00000000e+00, 0.00000000e+00, 5.63869774e-01, 0.00000000e+00,\n",
            "       0.00000000e+00, 0.00000000e+00, 0.00000000e+00, 0.00000000e+00,\n",
            "       0.00000000e+00, 5.41558802e-01, 2.78277338e-01, 2.36788020e-02,\n",
            "       6.22529745e-01, 1.08104444e+00, 0.00000000e+00, 7.91426077e-02,\n",
            "       0.00000000e+00, 0.00000000e+00, 6.38538122e-01, 0.00000000e+00,\n",
            "       0.00000000e+00, 0.00000000e+00, 8.93272534e-02, 2.12992266e-01,\n",
            "       3.02001715e-01, 7.35247374e-01, 0.00000000e+00, 0.00000000e+00,\n",
            "       1.90578058e-01, 2.22141564e-01, 3.41777563e-01, 5.54311454e-01,\n",
            "       0.00000000e+00, 0.00000000e+00, 0.00000000e+00, 0.00000000e+00,\n",
            "       5.39054871e-01, 0.00000000e+00, 0.00000000e+00, 0.00000000e+00,\n",
            "       5.93071043e-01, 0.00000000e+00, 0.00000000e+00, 0.00000000e+00,\n",
            "       4.08370882e-01, 1.08559918e+00, 3.10532361e-01, 0.00000000e+00,\n",
            "       0.00000000e+00, 0.00000000e+00, 2.68327534e-01, 0.00000000e+00,\n",
            "       0.00000000e+00, 0.00000000e+00, 0.00000000e+00, 5.06759286e-01,\n",
            "       0.00000000e+00, 3.15807402e-01, 0.00000000e+00, 0.00000000e+00,\n",
            "       0.00000000e+00, 0.00000000e+00, 1.97903022e-01, 3.25073183e-01,\n",
            "       5.61605871e-01, 0.00000000e+00, 4.89552170e-01, 5.82628131e-01,\n",
            "       0.00000000e+00, 0.00000000e+00, 5.24087250e-01, 0.00000000e+00,\n",
            "       0.00000000e+00, 6.85995579e-01, 1.74634486e-01, 1.06423244e-01,\n",
            "       9.66047406e-01, 0.00000000e+00, 9.17997181e-01, 0.00000000e+00,\n",
            "       3.60333234e-01, 0.00000000e+00, 0.00000000e+00, 0.00000000e+00,\n",
            "       2.94816285e-01, 5.19672409e-02, 0.00000000e+00, 0.00000000e+00,\n",
            "       0.00000000e+00, 2.22496837e-01, 0.00000000e+00, 0.00000000e+00,\n",
            "       2.91089535e-01, 3.64125580e-01, 4.14399773e-01, 3.80661339e-01,\n",
            "       1.38843641e-01, 0.00000000e+00, 0.00000000e+00, 6.43065929e-01,\n",
            "       3.36630195e-01, 0.00000000e+00, 3.62071186e-01, 5.21559060e-01,\n",
            "       6.70587495e-02, 0.00000000e+00, 2.60380208e-01, 0.00000000e+00,\n",
            "       0.00000000e+00, 0.00000000e+00, 0.00000000e+00, 0.00000000e+00,\n",
            "       0.00000000e+00, 0.00000000e+00, 3.53667229e-01, 2.38789156e-01,\n",
            "       0.00000000e+00, 3.18732634e-02, 7.76665509e-01, 3.98361087e-01,\n",
            "       6.49096251e-01, 0.00000000e+00, 0.00000000e+00, 0.00000000e+00,\n",
            "       8.55359063e-02, 0.00000000e+00, 0.00000000e+00, 6.22768700e-01,\n",
            "       5.96636176e-01, 2.71175355e-01, 0.00000000e+00, 0.00000000e+00,\n",
            "       4.17154878e-01, 3.59183013e-01, 1.63607243e-02, 0.00000000e+00,\n",
            "       1.09065495e-01, 0.00000000e+00, 0.00000000e+00, 0.00000000e+00,\n",
            "       0.00000000e+00, 4.18958396e-01, 0.00000000e+00, 0.00000000e+00,\n",
            "       0.00000000e+00, 0.00000000e+00, 0.00000000e+00, 1.78485081e-01,\n",
            "       0.00000000e+00, 0.00000000e+00, 0.00000000e+00, 0.00000000e+00,\n",
            "       5.89266002e-01, 7.18173146e-01, 6.19235039e-01, 9.41059664e-02,\n",
            "       0.00000000e+00, 0.00000000e+00, 0.00000000e+00, 0.00000000e+00,\n",
            "       0.00000000e+00, 0.00000000e+00, 0.00000000e+00, 7.12968528e-01,\n",
            "       6.96402490e-02, 1.47613838e-01, 4.77733850e-01, 7.97553241e-01,\n",
            "       0.00000000e+00, 4.33075547e-01, 2.36934125e-01, 0.00000000e+00,\n",
            "       8.34735036e-01, 8.18694830e-01, 0.00000000e+00, 1.16513467e+00,\n",
            "       8.02111626e-01, 0.00000000e+00, 3.65167595e-02, 0.00000000e+00,\n",
            "       6.48981333e-02, 3.54076266e-01, 0.00000000e+00, 0.00000000e+00,\n",
            "       3.54492962e-01, 0.00000000e+00, 0.00000000e+00, 0.00000000e+00,\n",
            "       5.60707390e-01, 5.14328182e-01, 3.49818289e-01, 2.62646526e-01,\n",
            "       2.49966756e-01, 0.00000000e+00, 0.00000000e+00, 0.00000000e+00,\n",
            "       0.00000000e+00, 8.01238656e-01, 0.00000000e+00, 0.00000000e+00,\n",
            "       1.31947458e-01, 0.00000000e+00, 8.91666174e-01, 2.18290016e-01,\n",
            "       0.00000000e+00, 0.00000000e+00, 0.00000000e+00, 3.18147600e-01,\n",
            "       0.00000000e+00, 3.80164504e-01, 0.00000000e+00, 4.99382943e-01,\n",
            "       3.44499081e-01, 1.21086873e-02, 0.00000000e+00, 0.00000000e+00,\n",
            "       9.43203419e-02, 0.00000000e+00, 1.39050350e-01, 3.70714277e-01,\n",
            "       8.21566701e-01, 1.20520246e+00, 4.26386476e-01, 1.66566476e-01,\n",
            "       0.00000000e+00, 5.52519932e-02, 0.00000000e+00, 3.60881686e-01,\n",
            "       0.00000000e+00, 0.00000000e+00, 0.00000000e+00, 6.56113088e-01,\n",
            "       0.00000000e+00, 0.00000000e+00, 8.80644321e-01, 0.00000000e+00,\n",
            "       4.43098277e-01, 5.18794775e-01, 1.74508899e-01, 0.00000000e+00,\n",
            "       0.00000000e+00, 4.25652027e-01, 2.96506822e-01, 4.76770341e-01,\n",
            "       0.00000000e+00, 1.94323108e-01, 0.00000000e+00, 2.94466734e-01,\n",
            "       5.70985556e-01, 8.55043948e-01, 0.00000000e+00, 1.13055728e-01,\n",
            "       3.52179855e-02, 1.69682026e-01, 1.12504065e+00, 7.29371309e-01,\n",
            "       2.95458794e-01, 7.71641254e-01, 8.14958096e-01, 6.22509658e-01,\n",
            "       4.27269101e-01, 0.00000000e+00, 8.19845274e-02, 0.00000000e+00,\n",
            "       3.55758786e-01, 0.00000000e+00, 2.52095461e-01, 0.00000000e+00,\n",
            "       3.02505106e-01, 4.49643075e-01, 3.92669886e-01, 7.21352577e-01,\n",
            "       0.00000000e+00, 0.00000000e+00, 3.70138884e-01, 0.00000000e+00,\n",
            "       2.79207584e-02, 1.54347152e-01, 0.00000000e+00, 4.36674267e-01,\n",
            "       4.58376229e-01, 0.00000000e+00, 0.00000000e+00, 0.00000000e+00,\n",
            "       2.53019780e-01, 0.00000000e+00, 4.28429097e-01, 2.93042660e-01,\n",
            "       0.00000000e+00, 0.00000000e+00, 0.00000000e+00, 6.13608181e-01,\n",
            "       3.63678634e-02, 0.00000000e+00, 0.00000000e+00, 0.00000000e+00,\n",
            "       0.00000000e+00, 0.00000000e+00, 0.00000000e+00, 0.00000000e+00,\n",
            "       1.29344201e+00, 5.64599276e-01, 0.00000000e+00, 0.00000000e+00,\n",
            "       7.40940511e-01, 1.55444846e-01, 0.00000000e+00, 0.00000000e+00,\n",
            "       1.10123277e+00, 6.58870935e-01, 0.00000000e+00, 0.00000000e+00,\n",
            "       2.16812238e-01, 4.01429273e-02, 0.00000000e+00, 2.72300392e-01,\n",
            "       0.00000000e+00, 0.00000000e+00, 2.62749702e-01, 3.97084028e-01,\n",
            "       0.00000000e+00, 6.94555461e-01, 0.00000000e+00, 0.00000000e+00,\n",
            "       1.38330549e-01, 6.54046118e-01, 0.00000000e+00, 2.83818066e-01,\n",
            "       0.00000000e+00, 0.00000000e+00, 8.23294148e-02, 2.61484742e-01,\n",
            "       0.00000000e+00, 4.83444659e-03, 8.30159247e-01, 5.89466214e-01,\n",
            "       2.03228429e-01, 5.86309889e-03, 1.18865900e-01, 2.23110721e-01,\n",
            "       0.00000000e+00, 0.00000000e+00, 6.79468513e-01, 0.00000000e+00,\n",
            "       5.46707332e-01, 0.00000000e+00, 3.09878409e-01, 1.57421485e-01,\n",
            "       0.00000000e+00, 3.26195240e-01, 0.00000000e+00, 0.00000000e+00,\n",
            "       0.00000000e+00, 0.00000000e+00, 5.63452020e-02, 0.00000000e+00,\n",
            "       0.00000000e+00, 0.00000000e+00, 0.00000000e+00, 0.00000000e+00,\n",
            "       0.00000000e+00, 0.00000000e+00, 4.99719493e-02, 0.00000000e+00,\n",
            "       0.00000000e+00, 4.15479034e-01, 0.00000000e+00, 7.32721031e-01,\n",
            "       7.19015300e-02, 0.00000000e+00, 0.00000000e+00, 0.00000000e+00,\n",
            "       3.52818072e-01, 0.00000000e+00, 7.12455735e-02, 6.71402633e-01,\n",
            "       4.80659187e-01, 1.78968683e-01, 0.00000000e+00, 0.00000000e+00,\n",
            "       1.19177270e+00, 0.00000000e+00, 0.00000000e+00, 1.05156917e-02,\n",
            "       6.70440495e-01, 0.00000000e+00, 5.83314419e-01, 4.55634534e-01,\n",
            "       1.00913614e-01, 6.46482706e-01, 0.00000000e+00, 0.00000000e+00,\n",
            "       8.12291950e-02, 0.00000000e+00, 0.00000000e+00, 2.94806749e-01,\n",
            "       9.36318517e-01, 0.00000000e+00, 0.00000000e+00, 0.00000000e+00,\n",
            "       4.48340833e-01, 0.00000000e+00, 0.00000000e+00, 0.00000000e+00,\n",
            "       2.69652456e-01, 0.00000000e+00, 3.06635022e-01, 0.00000000e+00,\n",
            "       2.88019240e-01, 1.00491905e+00, 0.00000000e+00, 0.00000000e+00,\n",
            "       0.00000000e+00, 5.08694708e-01, 0.00000000e+00, 0.00000000e+00,\n",
            "       8.11636090e-01, 0.00000000e+00, 4.28451151e-02, 0.00000000e+00,\n",
            "       0.00000000e+00, 2.51964867e-01, 0.00000000e+00, 1.52946517e-01,\n",
            "       0.00000000e+00, 0.00000000e+00, 0.00000000e+00, 6.27257600e-02,\n",
            "       0.00000000e+00, 3.58846068e-01, 2.32454449e-01, 7.05894828e-01,\n",
            "       4.15394157e-02, 1.04993554e-02, 1.39984369e-01, 0.00000000e+00,\n",
            "       9.56561446e-01, 4.79801506e-01, 0.00000000e+00, 8.92012537e-01,\n",
            "       0.00000000e+00, 1.25311422e+00, 0.00000000e+00, 3.42938215e-01,\n",
            "       5.27207851e-02, 8.13144803e-01, 1.41485780e-01, 0.00000000e+00,\n",
            "       9.76210415e-01, 0.00000000e+00, 4.72186983e-01, 0.00000000e+00,\n",
            "       0.00000000e+00, 8.39746222e-02, 6.23307824e-01, 0.00000000e+00])\n",
            "y9841 = 3\n"
          ]
        }
      ]
    },
    {
      "cell_type": "markdown",
      "source": [
        "##Split Data"
      ],
      "metadata": {
        "id": "H9NksUrhcGni"
      }
    },
    {
      "cell_type": "code",
      "source": [
        "# 80% train set, 20% test set\n",
        "\n",
        "X_train_2, X_test_2, y_train_2, y_test_2 = train_test_split(X_2, Y_2, test_size=0.2, random_state=15)"
      ],
      "metadata": {
        "id": "u2tuhsb5cLnX"
      },
      "execution_count": null,
      "outputs": []
    },
    {
      "cell_type": "markdown",
      "source": [
        "**Print**"
      ],
      "metadata": {
        "id": "pwEiUqS1cb91"
      }
    },
    {
      "cell_type": "code",
      "source": [
        "print(\"Size of training set: %d\" %X_train_2.shape[0])\n",
        "print(\"Size of test set: %d\" %X_test_2.shape[0])\n",
        "\n",
        "print('First training sample')\n",
        "id = 0\n",
        "print(\"    x_train_%d = %r\" %(id,X_train_2[id]))\n",
        "print(\"    y_train_%d = %r\" %(id,y_train_2[id]))\n",
        "\n",
        "print('First test sample')\n",
        "id = 0\n",
        "print(\"    x_test_%d = %r\" %(id,X_test_2[id]))\n",
        "print(\"    y_test_%d = %r\" %(id,y_test_2[id]))"
      ],
      "metadata": {
        "colab": {
          "base_uri": "https://localhost:8080/"
        },
        "id": "5U8jOHkocfM7",
        "outputId": "80bafec0-f8ba-4ddf-e9f4-eb0581a05e83"
      },
      "execution_count": null,
      "outputs": [
        {
          "output_type": "stream",
          "name": "stdout",
          "text": [
            "Size of training set: 40000\n",
            "Size of test set: 10000\n",
            "First training sample\n",
            "    x_train_0 = array([0.00000000e+00, 1.49645463e-01, 0.00000000e+00, 1.46847177e+00,\n",
            "       0.00000000e+00, 0.00000000e+00, 8.71060431e-01, 1.25646651e-01,\n",
            "       0.00000000e+00, 0.00000000e+00, 0.00000000e+00, 1.83695301e-01,\n",
            "       0.00000000e+00, 4.59071368e-01, 0.00000000e+00, 0.00000000e+00,\n",
            "       0.00000000e+00, 3.20024341e-01, 1.66986930e+00, 1.76643819e-01,\n",
            "       0.00000000e+00, 8.80406260e-01, 2.44142383e-01, 8.75222862e-01,\n",
            "       0.00000000e+00, 0.00000000e+00, 2.40103099e-02, 4.16346073e-01,\n",
            "       0.00000000e+00, 0.00000000e+00, 1.63496569e-01, 0.00000000e+00,\n",
            "       0.00000000e+00, 0.00000000e+00, 6.45907938e-01, 6.90098032e-02,\n",
            "       5.95856369e-01, 7.18910918e-02, 7.27778226e-02, 5.74632525e-01,\n",
            "       0.00000000e+00, 3.71352464e-01, 0.00000000e+00, 0.00000000e+00,\n",
            "       0.00000000e+00, 1.83760747e-01, 0.00000000e+00, 1.22244644e+00,\n",
            "       3.84452939e-01, 4.25376505e-01, 0.00000000e+00, 0.00000000e+00,\n",
            "       0.00000000e+00, 0.00000000e+00, 2.93496370e-01, 7.94796795e-02,\n",
            "       4.41485018e-01, 0.00000000e+00, 5.13483703e-01, 0.00000000e+00,\n",
            "       0.00000000e+00, 0.00000000e+00, 0.00000000e+00, 0.00000000e+00,\n",
            "       0.00000000e+00, 0.00000000e+00, 1.23817909e+00, 5.86504281e-01,\n",
            "       1.30072847e-01, 0.00000000e+00, 0.00000000e+00, 5.31737745e-01,\n",
            "       7.13643551e-01, 6.93007350e-01, 0.00000000e+00, 0.00000000e+00,\n",
            "       0.00000000e+00, 2.41135340e-02, 3.33097786e-01, 8.27021360e-01,\n",
            "       2.36381873e-01, 1.02409518e+00, 5.02768815e-01, 0.00000000e+00,\n",
            "       0.00000000e+00, 0.00000000e+00, 0.00000000e+00, 0.00000000e+00,\n",
            "       1.70770514e+00, 1.21773291e+00, 1.04643703e+00, 8.48836541e-01,\n",
            "       0.00000000e+00, 1.13787138e+00, 0.00000000e+00, 0.00000000e+00,\n",
            "       4.78741586e-01, 1.31705001e-01, 0.00000000e+00, 0.00000000e+00,\n",
            "       0.00000000e+00, 1.29372644e+00, 2.54834950e-01, 4.68806386e-01,\n",
            "       2.74206936e-01, 1.99014321e-01, 1.68833926e-01, 5.46113074e-01,\n",
            "       7.70801246e-01, 8.75251532e-01, 0.00000000e+00, 0.00000000e+00,\n",
            "       2.41210222e-01, 2.11177722e-01, 4.16802503e-02, 4.86784071e-01,\n",
            "       5.80679953e-01, 4.87450287e-02, 0.00000000e+00, 0.00000000e+00,\n",
            "       8.78461719e-01, 5.14109194e-01, 0.00000000e+00, 8.97226036e-01,\n",
            "       0.00000000e+00, 6.97057992e-02, 0.00000000e+00, 0.00000000e+00,\n",
            "       7.94583023e-01, 0.00000000e+00, 0.00000000e+00, 0.00000000e+00,\n",
            "       0.00000000e+00, 8.39683473e-01, 5.96273482e-01, 8.53953481e-01,\n",
            "       4.00673300e-02, 9.93457258e-01, 4.97297272e-02, 1.24813712e+00,\n",
            "       0.00000000e+00, 7.90536404e-02, 1.85858775e-02, 4.34968710e-01,\n",
            "       6.88754395e-02, 0.00000000e+00, 2.84124225e-01, 0.00000000e+00,\n",
            "       0.00000000e+00, 0.00000000e+00, 0.00000000e+00, 3.55988532e-01,\n",
            "       2.99653381e-01, 0.00000000e+00, 0.00000000e+00, 0.00000000e+00,\n",
            "       0.00000000e+00, 7.07827032e-01, 9.79497612e-01, 0.00000000e+00,\n",
            "       3.87459338e-01, 0.00000000e+00, 0.00000000e+00, 2.37868398e-01,\n",
            "       0.00000000e+00, 1.51215106e-01, 9.48260784e-01, 0.00000000e+00,\n",
            "       0.00000000e+00, 3.86400938e-01, 5.35557449e-01, 7.76733220e-01,\n",
            "       1.42783296e+00, 5.77335835e-01, 0.00000000e+00, 0.00000000e+00,\n",
            "       1.79833746e+00, 0.00000000e+00, 4.31274414e-01, 4.04102802e-01,\n",
            "       1.36138782e-01, 0.00000000e+00, 0.00000000e+00, 0.00000000e+00,\n",
            "       0.00000000e+00, 9.42665398e-01, 0.00000000e+00, 0.00000000e+00,\n",
            "       0.00000000e+00, 3.39357525e-01, 0.00000000e+00, 2.21381918e-01,\n",
            "       5.79368830e-01, 5.53832710e-01, 0.00000000e+00, 0.00000000e+00,\n",
            "       6.50419891e-02, 3.04401815e-01, 7.10400760e-01, 0.00000000e+00,\n",
            "       3.23687047e-01, 0.00000000e+00, 1.86565936e-01, 0.00000000e+00,\n",
            "       0.00000000e+00, 4.46724594e-01, 6.41717494e-01, 1.84228480e-01,\n",
            "       1.10739636e+00, 2.62163311e-01, 0.00000000e+00, 0.00000000e+00,\n",
            "       1.09072983e+00, 1.09554887e+00, 0.00000000e+00, 0.00000000e+00,\n",
            "       1.81081612e-03, 0.00000000e+00, 0.00000000e+00, 0.00000000e+00,\n",
            "       8.63786340e-01, 5.24234176e-01, 6.67215645e-01, 0.00000000e+00,\n",
            "       0.00000000e+00, 0.00000000e+00, 8.73940587e-02, 3.97030801e-01,\n",
            "       4.74519849e-01, 0.00000000e+00, 0.00000000e+00, 6.62354767e-01,\n",
            "       0.00000000e+00, 2.78698355e-02, 0.00000000e+00, 1.44897997e-01,\n",
            "       0.00000000e+00, 0.00000000e+00, 2.30048954e-01, 8.00331950e-01,\n",
            "       0.00000000e+00, 0.00000000e+00, 1.28125858e+00, 0.00000000e+00,\n",
            "       5.89878321e-01, 0.00000000e+00, 4.50157076e-01, 3.43263000e-02,\n",
            "       0.00000000e+00, 0.00000000e+00, 0.00000000e+00, 0.00000000e+00,\n",
            "       0.00000000e+00, 0.00000000e+00, 8.20843950e-02, 6.90358281e-02,\n",
            "       3.64940464e-01, 0.00000000e+00, 0.00000000e+00, 0.00000000e+00,\n",
            "       0.00000000e+00, 0.00000000e+00, 6.36715055e-01, 1.02089655e+00,\n",
            "       0.00000000e+00, 0.00000000e+00, 0.00000000e+00, 1.69833824e-01,\n",
            "       0.00000000e+00, 8.71419132e-01, 0.00000000e+00, 2.76480019e-01,\n",
            "       1.44629121e-01, 2.87505805e-01, 0.00000000e+00, 0.00000000e+00,\n",
            "       0.00000000e+00, 2.85524338e-01, 0.00000000e+00, 0.00000000e+00,\n",
            "       2.52912968e-01, 5.73400378e-01, 5.05443394e-01, 0.00000000e+00,\n",
            "       0.00000000e+00, 3.50282751e-02, 0.00000000e+00, 0.00000000e+00,\n",
            "       3.90078247e-01, 0.00000000e+00, 0.00000000e+00, 0.00000000e+00,\n",
            "       0.00000000e+00, 9.70278561e-01, 1.04943061e+00, 0.00000000e+00,\n",
            "       2.60361046e-01, 1.17504060e+00, 1.50943566e-02, 0.00000000e+00,\n",
            "       1.03606969e-01, 1.19429433e+00, 0.00000000e+00, 0.00000000e+00,\n",
            "       1.10126622e-01, 5.25036871e-01, 0.00000000e+00, 1.02360463e-02,\n",
            "       0.00000000e+00, 0.00000000e+00, 0.00000000e+00, 1.04254121e-02,\n",
            "       0.00000000e+00, 0.00000000e+00, 0.00000000e+00, 1.06491673e+00,\n",
            "       0.00000000e+00, 4.67659324e-01, 0.00000000e+00, 0.00000000e+00,\n",
            "       5.21367908e-01, 0.00000000e+00, 0.00000000e+00, 1.50342047e-01,\n",
            "       0.00000000e+00, 0.00000000e+00, 1.03192210e+00, 0.00000000e+00,\n",
            "       4.85519052e-01, 1.80254579e-01, 3.99319082e-01, 0.00000000e+00,\n",
            "       1.87087923e-01, 0.00000000e+00, 0.00000000e+00, 0.00000000e+00,\n",
            "       4.89812195e-01, 3.76539230e-01, 0.00000000e+00, 0.00000000e+00,\n",
            "       2.93525994e-01, 1.72266108e-03, 9.05508161e-01, 0.00000000e+00,\n",
            "       0.00000000e+00, 4.64577734e-01, 0.00000000e+00, 8.30900431e-01,\n",
            "       8.08770508e-02, 1.12284756e+00, 6.58526003e-01, 6.24633670e-01,\n",
            "       0.00000000e+00, 0.00000000e+00, 0.00000000e+00, 0.00000000e+00,\n",
            "       0.00000000e+00, 0.00000000e+00, 0.00000000e+00, 6.82798326e-01,\n",
            "       0.00000000e+00, 0.00000000e+00, 0.00000000e+00, 5.58425069e-01,\n",
            "       0.00000000e+00, 1.43745041e+00, 2.27892801e-01, 0.00000000e+00,\n",
            "       1.39447436e-01, 4.34762180e-01, 2.23576337e-01, 2.22410828e-01,\n",
            "       0.00000000e+00, 0.00000000e+00, 7.04119682e-01, 0.00000000e+00,\n",
            "       2.70629227e-01, 4.13365155e-01, 3.92427623e-01, 3.87800604e-01,\n",
            "       0.00000000e+00, 9.64999378e-01, 0.00000000e+00, 0.00000000e+00,\n",
            "       0.00000000e+00, 0.00000000e+00, 0.00000000e+00, 4.48283926e-02,\n",
            "       0.00000000e+00, 0.00000000e+00, 0.00000000e+00, 0.00000000e+00,\n",
            "       4.59772199e-02, 0.00000000e+00, 0.00000000e+00, 5.47792137e-01,\n",
            "       0.00000000e+00, 7.72887766e-02, 0.00000000e+00, 5.62285304e-01,\n",
            "       1.33379593e-01, 5.48509896e-01, 0.00000000e+00, 0.00000000e+00,\n",
            "       1.89383149e-01, 6.14006184e-02, 0.00000000e+00, 1.12734091e+00,\n",
            "       1.01095665e+00, 2.45885849e-01, 5.90702116e-01, 0.00000000e+00,\n",
            "       3.46594065e-01, 3.70007843e-01, 1.10500312e+00, 4.68674898e-01,\n",
            "       5.94216824e-01, 4.25838143e-01, 0.00000000e+00, 7.99621940e-02,\n",
            "       1.30285478e+00, 5.27980506e-01, 3.39811504e-01, 2.61786997e-01,\n",
            "       1.11969531e-01, 2.68616170e-01, 6.93674982e-01, 0.00000000e+00,\n",
            "       0.00000000e+00, 0.00000000e+00, 0.00000000e+00, 0.00000000e+00,\n",
            "       3.72904897e-01, 3.93978983e-01, 3.59126367e-02, 6.96995735e-01,\n",
            "       7.87674546e-01, 1.30187109e-01, 0.00000000e+00, 9.15687233e-02,\n",
            "       6.18717909e-01, 4.31688905e-01, 2.33200863e-01, 0.00000000e+00,\n",
            "       3.12385798e-01, 0.00000000e+00, 0.00000000e+00, 0.00000000e+00,\n",
            "       0.00000000e+00, 2.19365075e-01, 8.40226337e-02, 0.00000000e+00,\n",
            "       1.10294499e-01, 0.00000000e+00, 0.00000000e+00, 0.00000000e+00,\n",
            "       7.79022098e-01, 7.51519918e-01, 3.92429113e-01, 0.00000000e+00,\n",
            "       0.00000000e+00, 1.19109377e-01, 1.11077823e-01, 0.00000000e+00,\n",
            "       0.00000000e+00, 0.00000000e+00, 2.93917745e-01, 8.91539752e-01,\n",
            "       0.00000000e+00, 0.00000000e+00, 0.00000000e+00, 0.00000000e+00,\n",
            "       1.83839381e-01, 0.00000000e+00, 3.39135677e-01, 0.00000000e+00,\n",
            "       0.00000000e+00, 0.00000000e+00, 0.00000000e+00, 0.00000000e+00,\n",
            "       7.53136516e-01, 6.06902122e-01, 0.00000000e+00, 1.08093667e+00,\n",
            "       0.00000000e+00, 1.10248931e-01, 1.06368816e+00, 3.92305791e-01,\n",
            "       0.00000000e+00, 2.57583886e-01, 4.05468434e-01, 0.00000000e+00,\n",
            "       1.13249399e-01, 0.00000000e+00, 0.00000000e+00, 5.14042437e-01,\n",
            "       5.18827081e-01, 0.00000000e+00, 1.84792206e-01, 0.00000000e+00,\n",
            "       1.29646018e-01, 2.49881253e-01, 0.00000000e+00, 0.00000000e+00,\n",
            "       1.09588778e+00, 0.00000000e+00, 6.07641220e-01, 8.11725378e-01,\n",
            "       1.28571555e-01, 0.00000000e+00, 0.00000000e+00, 8.49094056e-03,\n",
            "       0.00000000e+00, 0.00000000e+00, 0.00000000e+00, 6.42470956e-01,\n",
            "       5.52730143e-01, 0.00000000e+00, 6.01609409e-01, 0.00000000e+00,\n",
            "       0.00000000e+00, 1.33355892e+00, 0.00000000e+00, 0.00000000e+00,\n",
            "       0.00000000e+00, 0.00000000e+00, 1.10506511e+00, 0.00000000e+00,\n",
            "       0.00000000e+00, 2.06069544e-01, 5.21585405e-01, 1.35721222e-01,\n",
            "       0.00000000e+00, 0.00000000e+00, 4.71267641e-01, 0.00000000e+00,\n",
            "       0.00000000e+00, 2.49469951e-02, 1.06173170e+00, 0.00000000e+00,\n",
            "       6.33244455e-01, 0.00000000e+00, 0.00000000e+00, 0.00000000e+00,\n",
            "       0.00000000e+00, 0.00000000e+00, 1.29273975e+00, 0.00000000e+00,\n",
            "       0.00000000e+00, 8.58295918e-01, 0.00000000e+00, 0.00000000e+00,\n",
            "       0.00000000e+00, 3.63391191e-01, 0.00000000e+00, 3.21355194e-01,\n",
            "       0.00000000e+00, 1.20951962e+00, 0.00000000e+00, 1.42016634e-01,\n",
            "       0.00000000e+00, 0.00000000e+00, 3.97529066e-01, 0.00000000e+00,\n",
            "       0.00000000e+00, 0.00000000e+00, 0.00000000e+00, 4.58628476e-01,\n",
            "       1.02292228e+00, 8.42007220e-01, 0.00000000e+00, 3.39663923e-01,\n",
            "       0.00000000e+00, 1.33073777e-01, 0.00000000e+00, 3.21597368e-01,\n",
            "       0.00000000e+00, 3.13345678e-02, 0.00000000e+00, 1.28269613e+00,\n",
            "       0.00000000e+00, 0.00000000e+00, 3.46313440e-03, 0.00000000e+00,\n",
            "       3.92754555e-01, 0.00000000e+00, 0.00000000e+00, 0.00000000e+00,\n",
            "       0.00000000e+00, 6.08817518e-01, 9.83310044e-01, 0.00000000e+00,\n",
            "       0.00000000e+00, 0.00000000e+00, 1.42800704e-01, 0.00000000e+00,\n",
            "       0.00000000e+00, 0.00000000e+00, 2.31787115e-01, 9.27898407e-01,\n",
            "       0.00000000e+00, 0.00000000e+00, 0.00000000e+00, 1.64911002e-01,\n",
            "       0.00000000e+00, 0.00000000e+00, 3.51566046e-01, 1.00819337e+00,\n",
            "       7.83818781e-01, 0.00000000e+00, 0.00000000e+00, 1.02497303e+00,\n",
            "       0.00000000e+00, 0.00000000e+00, 1.30539262e+00, 0.00000000e+00,\n",
            "       0.00000000e+00, 1.69588697e+00, 5.82519054e-01, 8.63095641e-01,\n",
            "       6.71688259e-01, 0.00000000e+00, 1.18923461e+00, 0.00000000e+00,\n",
            "       0.00000000e+00, 0.00000000e+00, 0.00000000e+00, 0.00000000e+00,\n",
            "       0.00000000e+00, 4.42477435e-01, 5.18677011e-02, 1.88520193e-01,\n",
            "       0.00000000e+00, 0.00000000e+00, 0.00000000e+00, 6.92327619e-01,\n",
            "       0.00000000e+00, 0.00000000e+00, 0.00000000e+00, 5.67569673e-01,\n",
            "       0.00000000e+00, 0.00000000e+00, 2.01536357e-01, 4.77651536e-01,\n",
            "       0.00000000e+00, 0.00000000e+00, 3.01619381e-01, 3.78537089e-01,\n",
            "       0.00000000e+00, 6.23097233e-02, 5.59579372e-01, 0.00000000e+00,\n",
            "       4.13035423e-01, 0.00000000e+00, 0.00000000e+00, 1.55282430e-02,\n",
            "       1.20216936e-01, 0.00000000e+00, 2.66191691e-01, 2.99409062e-01,\n",
            "       6.66180491e-01, 0.00000000e+00, 4.72662486e-02, 1.74670428e-01,\n",
            "       4.04386491e-01, 0.00000000e+00, 0.00000000e+00, 0.00000000e+00,\n",
            "       0.00000000e+00, 0.00000000e+00, 0.00000000e+00, 5.38947940e-01,\n",
            "       0.00000000e+00, 6.77038908e-01, 0.00000000e+00, 0.00000000e+00,\n",
            "       9.99893844e-01, 6.81538403e-01, 0.00000000e+00, 0.00000000e+00,\n",
            "       8.07230175e-01, 0.00000000e+00, 0.00000000e+00, 0.00000000e+00,\n",
            "       0.00000000e+00, 1.17746115e+00, 0.00000000e+00, 0.00000000e+00,\n",
            "       6.97019339e-01, 0.00000000e+00, 0.00000000e+00, 1.94626912e-01,\n",
            "       3.32075357e-01, 0.00000000e+00, 0.00000000e+00, 0.00000000e+00,\n",
            "       7.41733253e-01, 6.70358300e-01, 0.00000000e+00, 8.48610923e-02,\n",
            "       0.00000000e+00, 0.00000000e+00, 0.00000000e+00, 4.07236427e-01,\n",
            "       0.00000000e+00, 0.00000000e+00, 0.00000000e+00, 6.65386856e-01,\n",
            "       0.00000000e+00, 5.33478677e-01, 1.64943266e+00, 1.27354717e+00,\n",
            "       0.00000000e+00, 7.80276239e-01, 6.98453188e-02, 5.72174251e-01,\n",
            "       8.44797671e-01, 3.11853439e-01, 0.00000000e+00, 1.02800381e+00,\n",
            "       9.44805562e-01, 0.00000000e+00, 8.54884088e-02, 0.00000000e+00,\n",
            "       1.86232612e-01, 7.72299886e-01, 0.00000000e+00, 0.00000000e+00,\n",
            "       7.29801357e-02, 0.00000000e+00, 0.00000000e+00, 4.79180440e-02,\n",
            "       4.41955358e-01, 1.38246465e+00, 4.31356817e-01, 3.66699308e-01,\n",
            "       1.56148493e-01, 0.00000000e+00, 0.00000000e+00, 0.00000000e+00,\n",
            "       0.00000000e+00, 0.00000000e+00, 0.00000000e+00, 0.00000000e+00,\n",
            "       6.39762998e-01, 7.16385186e-01, 2.79211521e-01, 0.00000000e+00,\n",
            "       5.39182103e-04, 0.00000000e+00, 0.00000000e+00, 6.17876768e-01,\n",
            "       0.00000000e+00, 3.30264568e-01, 0.00000000e+00, 6.07991457e-01,\n",
            "       3.08941364e-01, 5.09227440e-03, 0.00000000e+00, 0.00000000e+00,\n",
            "       0.00000000e+00, 0.00000000e+00, 0.00000000e+00, 5.86811543e-01,\n",
            "       4.34626788e-01, 9.82573032e-01, 5.98212481e-01, 0.00000000e+00,\n",
            "       0.00000000e+00, 9.79612395e-02, 0.00000000e+00, 9.93793905e-01,\n",
            "       0.00000000e+00, 5.44089125e-04, 0.00000000e+00, 6.68393672e-01,\n",
            "       0.00000000e+00, 5.02766967e-01, 7.83427417e-01, 0.00000000e+00,\n",
            "       8.07800829e-01, 9.77029130e-02, 1.99719682e-01, 4.26499814e-01,\n",
            "       5.45516729e-01, 0.00000000e+00, 4.59527364e-03, 0.00000000e+00,\n",
            "       0.00000000e+00, 0.00000000e+00, 0.00000000e+00, 0.00000000e+00,\n",
            "       4.18494105e-01, 6.78920299e-02, 5.61857939e-01, 9.09573674e-01,\n",
            "       0.00000000e+00, 2.09948778e-01, 8.36451352e-01, 9.45184171e-01,\n",
            "       0.00000000e+00, 9.54937100e-01, 8.14061522e-01, 8.03260803e-01,\n",
            "       1.09566259e+00, 3.45623195e-01, 0.00000000e+00, 0.00000000e+00,\n",
            "       7.67540157e-01, 0.00000000e+00, 5.81924736e-01, 0.00000000e+00,\n",
            "       1.47932208e+00, 1.06565368e+00, 3.67644876e-01, 7.95070946e-01,\n",
            "       1.18849766e+00, 2.26618171e-01, 1.26339858e-02, 0.00000000e+00,\n",
            "       8.53312373e-01, 0.00000000e+00, 0.00000000e+00, 4.51981649e-02,\n",
            "       6.65546477e-01, 0.00000000e+00, 0.00000000e+00, 0.00000000e+00,\n",
            "       0.00000000e+00, 0.00000000e+00, 7.76525676e-01, 0.00000000e+00,\n",
            "       2.28953408e-03, 3.83052558e-01, 0.00000000e+00, 1.17073095e+00,\n",
            "       0.00000000e+00, 0.00000000e+00, 0.00000000e+00, 5.41646242e-01,\n",
            "       0.00000000e+00, 0.00000000e+00, 0.00000000e+00, 1.64832950e-01,\n",
            "       1.23566103e+00, 5.53712010e-01, 5.87433986e-02, 0.00000000e+00,\n",
            "       9.46158826e-01, 0.00000000e+00, 0.00000000e+00, 0.00000000e+00,\n",
            "       2.36817181e-01, 4.61794913e-01, 0.00000000e+00, 0.00000000e+00,\n",
            "       5.92897654e-01, 0.00000000e+00, 0.00000000e+00, 8.09864104e-01,\n",
            "       0.00000000e+00, 0.00000000e+00, 0.00000000e+00, 7.27293849e-01,\n",
            "       0.00000000e+00, 1.41801465e+00, 0.00000000e+00, 0.00000000e+00,\n",
            "       7.38418937e-01, 0.00000000e+00, 0.00000000e+00, 6.04767203e-01,\n",
            "       0.00000000e+00, 0.00000000e+00, 0.00000000e+00, 6.00311697e-01,\n",
            "       7.71554053e-01, 6.47533536e-01, 8.61975789e-01, 2.68860668e-01,\n",
            "       9.55799222e-01, 0.00000000e+00, 8.38538334e-02, 0.00000000e+00,\n",
            "       0.00000000e+00, 0.00000000e+00, 7.98025548e-01, 7.56545842e-01,\n",
            "       0.00000000e+00, 0.00000000e+00, 0.00000000e+00, 4.18619990e-01,\n",
            "       0.00000000e+00, 5.24946809e-01, 0.00000000e+00, 0.00000000e+00,\n",
            "       0.00000000e+00, 0.00000000e+00, 0.00000000e+00, 0.00000000e+00,\n",
            "       0.00000000e+00, 1.56463712e-01, 0.00000000e+00, 0.00000000e+00,\n",
            "       6.27012700e-02, 0.00000000e+00, 0.00000000e+00, 0.00000000e+00,\n",
            "       0.00000000e+00, 6.71495080e-01, 0.00000000e+00, 1.05565667e+00,\n",
            "       0.00000000e+00, 4.08751786e-01, 0.00000000e+00, 0.00000000e+00,\n",
            "       0.00000000e+00, 0.00000000e+00, 0.00000000e+00, 5.30179858e-01,\n",
            "       0.00000000e+00, 1.08190882e+00, 0.00000000e+00, 4.36619610e-01,\n",
            "       1.24219680e+00, 0.00000000e+00, 0.00000000e+00, 0.00000000e+00,\n",
            "       9.41518426e-01, 0.00000000e+00, 0.00000000e+00, 1.71161354e-01,\n",
            "       4.86949891e-01, 4.98864889e-01, 6.88076854e-01, 0.00000000e+00,\n",
            "       0.00000000e+00, 2.96172570e-03, 0.00000000e+00, 8.76592517e-01,\n",
            "       8.02016914e-01, 3.19180302e-02, 0.00000000e+00, 0.00000000e+00,\n",
            "       1.55319363e-01, 0.00000000e+00, 0.00000000e+00, 0.00000000e+00,\n",
            "       6.88524485e-01, 2.53771365e-01, 1.88087106e-01, 0.00000000e+00,\n",
            "       2.79748201e-01, 1.46398854e+00, 0.00000000e+00, 0.00000000e+00,\n",
            "       0.00000000e+00, 9.74895895e-01, 0.00000000e+00, 0.00000000e+00,\n",
            "       6.16493762e-01, 7.56035924e-01, 1.58839121e-01, 5.18748343e-01,\n",
            "       0.00000000e+00, 1.88582793e-01, 0.00000000e+00, 0.00000000e+00,\n",
            "       4.37876880e-01, 0.00000000e+00, 0.00000000e+00, 1.83910847e-01,\n",
            "       0.00000000e+00, 2.33479053e-01, 1.16058297e-01, 6.86314642e-01,\n",
            "       4.58979160e-01, 0.00000000e+00, 6.77226424e-01, 0.00000000e+00,\n",
            "       8.36917281e-01, 8.71776998e-01, 0.00000000e+00, 1.18429139e-01,\n",
            "       1.12580217e-01, 1.06942391e+00, 0.00000000e+00, 6.45550787e-01,\n",
            "       9.86838043e-01, 9.67014134e-01, 0.00000000e+00, 1.71923533e-01,\n",
            "       9.80166137e-01, 1.11257389e-01, 0.00000000e+00, 0.00000000e+00,\n",
            "       7.96691421e-03, 2.30866209e-01, 8.93604040e-01, 0.00000000e+00])\n",
            "    y_train_0 = 2\n",
            "First test sample\n",
            "    x_test_0 = array([0.00000000e+00, 0.00000000e+00, 0.00000000e+00, 3.94955993e-01,\n",
            "       0.00000000e+00, 0.00000000e+00, 2.32556656e-01, 0.00000000e+00,\n",
            "       0.00000000e+00, 5.15406132e-01, 1.63825497e-01, 0.00000000e+00,\n",
            "       0.00000000e+00, 2.81488955e-01, 3.74657869e-01, 2.55597323e-01,\n",
            "       0.00000000e+00, 1.22208014e-01, 9.32293952e-01, 6.42986596e-01,\n",
            "       5.40895760e-01, 2.89040893e-01, 0.00000000e+00, 0.00000000e+00,\n",
            "       4.27314669e-01, 7.07619131e-01, 0.00000000e+00, 5.97757339e-01,\n",
            "       5.12316898e-02, 3.90514165e-01, 0.00000000e+00, 1.61825344e-01,\n",
            "       1.42882228e-01, 0.00000000e+00, 1.77378193e-01, 0.00000000e+00,\n",
            "       0.00000000e+00, 5.65640807e-01, 4.03591335e-01, 5.59157252e-01,\n",
            "       1.49188876e-01, 6.08788669e-01, 2.16284424e-01, 0.00000000e+00,\n",
            "       0.00000000e+00, 0.00000000e+00, 1.45972207e-01, 7.93737888e-01,\n",
            "       5.54507971e-01, 8.80413651e-01, 0.00000000e+00, 0.00000000e+00,\n",
            "       0.00000000e+00, 0.00000000e+00, 4.50572371e-01, 0.00000000e+00,\n",
            "       1.64020628e-01, 3.03746819e-01, 5.51854400e-03, 1.94650024e-01,\n",
            "       0.00000000e+00, 0.00000000e+00, 0.00000000e+00, 0.00000000e+00,\n",
            "       0.00000000e+00, 0.00000000e+00, 6.88614473e-02, 4.81806189e-01,\n",
            "       0.00000000e+00, 2.55917877e-01, 0.00000000e+00, 5.39241791e-01,\n",
            "       0.00000000e+00, 4.92956966e-01, 1.66575110e-03, 5.21131232e-02,\n",
            "       4.43181843e-01, 0.00000000e+00, 1.81492299e-01, 3.90763074e-01,\n",
            "       5.94420373e-01, 2.37059042e-01, 1.77241609e-01, 0.00000000e+00,\n",
            "       3.74181479e-01, 4.57689494e-01, 0.00000000e+00, 0.00000000e+00,\n",
            "       1.18726432e+00, 2.44981810e-01, 1.75230727e-01, 0.00000000e+00,\n",
            "       5.63222587e-01, 3.66013825e-01, 0.00000000e+00, 0.00000000e+00,\n",
            "       3.89323294e-01, 0.00000000e+00, 3.49510372e-01, 0.00000000e+00,\n",
            "       2.83386856e-01, 7.15330124e-01, 0.00000000e+00, 6.03582561e-01,\n",
            "       6.00878239e-01, 2.73028970e-01, 0.00000000e+00, 1.89090922e-01,\n",
            "       3.23614448e-01, 1.11685753e+00, 0.00000000e+00, 0.00000000e+00,\n",
            "       1.36510700e-01, 0.00000000e+00, 1.78734809e-01, 5.65073013e-01,\n",
            "       3.51328075e-01, 2.28860840e-01, 0.00000000e+00, 0.00000000e+00,\n",
            "       2.85055697e-01, 5.16557042e-03, 0.00000000e+00, 8.97964060e-01,\n",
            "       0.00000000e+00, 2.55856723e-01, 0.00000000e+00, 0.00000000e+00,\n",
            "       4.43158984e-01, 5.07805124e-02, 0.00000000e+00, 0.00000000e+00,\n",
            "       7.64380455e-01, 6.19493499e-02, 2.49573141e-01, 0.00000000e+00,\n",
            "       4.67845738e-01, 4.94396091e-01, 0.00000000e+00, 1.98519856e-01,\n",
            "       0.00000000e+00, 0.00000000e+00, 1.59377798e-01, 3.07410330e-01,\n",
            "       2.25561172e-01, 0.00000000e+00, 0.00000000e+00, 0.00000000e+00,\n",
            "       0.00000000e+00, 0.00000000e+00, 0.00000000e+00, 8.05841535e-02,\n",
            "       2.61660665e-01, 0.00000000e+00, 3.18251625e-02, 5.03158629e-01,\n",
            "       0.00000000e+00, 4.06406879e-01, 0.00000000e+00, 0.00000000e+00,\n",
            "       7.00317025e-01, 0.00000000e+00, 9.14926305e-02, 0.00000000e+00,\n",
            "       0.00000000e+00, 9.49562550e-01, 0.00000000e+00, 0.00000000e+00,\n",
            "       0.00000000e+00, 4.46104705e-01, 3.28712398e-03, 0.00000000e+00,\n",
            "       1.35489672e-01, 9.77009349e-03, 3.89244944e-01, 0.00000000e+00,\n",
            "       1.08749831e+00, 0.00000000e+00, 3.77447367e-01, 7.20895112e-01,\n",
            "       0.00000000e+00, 0.00000000e+00, 0.00000000e+00, 7.09717348e-02,\n",
            "       0.00000000e+00, 3.52026552e-01, 4.08408791e-01, 0.00000000e+00,\n",
            "       0.00000000e+00, 0.00000000e+00, 2.11695675e-02, 0.00000000e+00,\n",
            "       5.49123704e-01, 1.65378332e-01, 0.00000000e+00, 8.54568705e-02,\n",
            "       0.00000000e+00, 0.00000000e+00, 1.67967677e-01, 0.00000000e+00,\n",
            "       5.69948733e-01, 0.00000000e+00, 3.53768580e-02, 0.00000000e+00,\n",
            "       0.00000000e+00, 0.00000000e+00, 5.78863800e-01, 6.30655348e-01,\n",
            "       8.24114233e-02, 0.00000000e+00, 0.00000000e+00, 0.00000000e+00,\n",
            "       1.62127867e-01, 5.50913990e-01, 0.00000000e+00, 0.00000000e+00,\n",
            "       3.55888754e-01, 0.00000000e+00, 0.00000000e+00, 0.00000000e+00,\n",
            "       7.14441985e-02, 0.00000000e+00, 6.59521520e-01, 3.65235470e-02,\n",
            "       0.00000000e+00, 0.00000000e+00, 0.00000000e+00, 1.38195738e-01,\n",
            "       1.20571931e-03, 7.22094700e-02, 0.00000000e+00, 6.18249536e-01,\n",
            "       0.00000000e+00, 6.59108281e-01, 0.00000000e+00, 2.45330594e-02,\n",
            "       2.78048038e-01, 0.00000000e+00, 6.45173565e-02, 3.51224989e-01,\n",
            "       0.00000000e+00, 0.00000000e+00, 8.29774261e-01, 0.00000000e+00,\n",
            "       1.89460948e-01, 0.00000000e+00, 1.55645072e-01, 1.64762661e-01,\n",
            "       0.00000000e+00, 3.39754909e-01, 0.00000000e+00, 5.92068173e-02,\n",
            "       0.00000000e+00, 0.00000000e+00, 1.12996675e-01, 0.00000000e+00,\n",
            "       4.17231351e-01, 0.00000000e+00, 0.00000000e+00, 0.00000000e+00,\n",
            "       0.00000000e+00, 0.00000000e+00, 0.00000000e+00, 6.63395524e-01,\n",
            "       3.06128442e-01, 5.00721931e-01, 0.00000000e+00, 0.00000000e+00,\n",
            "       0.00000000e+00, 1.08188367e+00, 0.00000000e+00, 6.40969396e-01,\n",
            "       1.16905406e-01, 1.79001853e-01, 0.00000000e+00, 0.00000000e+00,\n",
            "       6.91760182e-01, 6.12068951e-01, 0.00000000e+00, 0.00000000e+00,\n",
            "       0.00000000e+00, 4.25895810e-01, 9.24695283e-02, 0.00000000e+00,\n",
            "       0.00000000e+00, 1.82410836e-01, 0.00000000e+00, 0.00000000e+00,\n",
            "       4.59761113e-01, 6.69071853e-01, 2.93168843e-01, 0.00000000e+00,\n",
            "       2.16644425e-02, 9.69082415e-02, 6.66091144e-01, 0.00000000e+00,\n",
            "       3.80599382e-03, 3.57874185e-01, 6.29918516e-01, 6.83714569e-01,\n",
            "       1.13700479e-02, 1.47404641e-01, 0.00000000e+00, 3.04560438e-02,\n",
            "       2.35368401e-01, 6.99339569e-01, 0.00000000e+00, 5.04681945e-01,\n",
            "       0.00000000e+00, 3.96190733e-01, 1.87496468e-02, 0.00000000e+00,\n",
            "       0.00000000e+00, 0.00000000e+00, 0.00000000e+00, 4.50042635e-02,\n",
            "       0.00000000e+00, 0.00000000e+00, 0.00000000e+00, 3.36485803e-01,\n",
            "       2.09231064e-01, 0.00000000e+00, 2.95047760e-01, 6.20446503e-01,\n",
            "       3.59810740e-01, 0.00000000e+00, 6.49662782e-03, 4.10716563e-01,\n",
            "       6.00726426e-01, 7.84309953e-02, 4.43731368e-01, 0.00000000e+00,\n",
            "       0.00000000e+00, 0.00000000e+00, 8.34727474e-03, 0.00000000e+00,\n",
            "       2.24956334e-01, 3.19930285e-01, 0.00000000e+00, 0.00000000e+00,\n",
            "       1.40238702e-01, 0.00000000e+00, 6.63361788e-01, 0.00000000e+00,\n",
            "       0.00000000e+00, 9.83017907e-02, 7.00304568e-01, 9.64108407e-01,\n",
            "       6.34021401e-01, 1.04066133e+00, 3.58051986e-01, 2.37122893e-01,\n",
            "       0.00000000e+00, 0.00000000e+00, 3.12045276e-01, 2.42850974e-01,\n",
            "       2.29537115e-01, 1.10133961e-01, 3.01720023e-01, 2.72366516e-02,\n",
            "       0.00000000e+00, 0.00000000e+00, 0.00000000e+00, 0.00000000e+00,\n",
            "       0.00000000e+00, 6.10106230e-01, 0.00000000e+00, 3.23881149e-01,\n",
            "       2.15092465e-01, 6.46785617e-01, 7.48242438e-01, 4.91533846e-01,\n",
            "       2.24458948e-01, 8.63843262e-02, 1.34850949e-01, 0.00000000e+00,\n",
            "       1.98601961e-01, 9.64850187e-02, 7.66763926e-01, 5.01121938e-01,\n",
            "       4.99584883e-01, 8.62247169e-01, 0.00000000e+00, 0.00000000e+00,\n",
            "       0.00000000e+00, 0.00000000e+00, 4.59215760e-01, 3.73318076e-01,\n",
            "       0.00000000e+00, 0.00000000e+00, 0.00000000e+00, 0.00000000e+00,\n",
            "       1.99093938e-01, 7.91978389e-02, 0.00000000e+00, 4.94474947e-01,\n",
            "       7.43526146e-02, 6.14140518e-02, 0.00000000e+00, 4.11243469e-01,\n",
            "       2.30194658e-01, 6.76534772e-01, 6.07193053e-01, 0.00000000e+00,\n",
            "       0.00000000e+00, 0.00000000e+00, 0.00000000e+00, 9.02314603e-01,\n",
            "       2.62100279e-01, 0.00000000e+00, 1.10427821e+00, 0.00000000e+00,\n",
            "       1.61002100e-01, 2.47175917e-01, 8.74109268e-02, 1.85690850e-01,\n",
            "       0.00000000e+00, 4.56132978e-01, 0.00000000e+00, 0.00000000e+00,\n",
            "       6.18523538e-01, 3.54486316e-01, 5.22096574e-01, 2.23098367e-01,\n",
            "       0.00000000e+00, 0.00000000e+00, 4.78295773e-01, 0.00000000e+00,\n",
            "       0.00000000e+00, 0.00000000e+00, 0.00000000e+00, 1.59006789e-01,\n",
            "       5.79486191e-01, 0.00000000e+00, 4.22742404e-02, 1.89996779e-01,\n",
            "       2.80416142e-02, 3.44609410e-01, 0.00000000e+00, 5.69614828e-01,\n",
            "       3.90841603e-01, 0.00000000e+00, 3.21264058e-01, 0.00000000e+00,\n",
            "       9.63798225e-01, 4.32876021e-01, 5.44473231e-01, 5.37349582e-01,\n",
            "       0.00000000e+00, 0.00000000e+00, 8.24295461e-01, 1.70186996e-01,\n",
            "       3.49074990e-01, 0.00000000e+00, 0.00000000e+00, 2.90857941e-01,\n",
            "       8.16395700e-01, 1.02257133e+00, 2.07955942e-01, 3.60529572e-01,\n",
            "       0.00000000e+00, 0.00000000e+00, 8.36549819e-01, 0.00000000e+00,\n",
            "       0.00000000e+00, 0.00000000e+00, 7.88501054e-02, 7.53180534e-02,\n",
            "       0.00000000e+00, 5.96946657e-01, 0.00000000e+00, 0.00000000e+00,\n",
            "       0.00000000e+00, 0.00000000e+00, 2.68145710e-01, 0.00000000e+00,\n",
            "       4.79117960e-01, 3.16106081e-01, 0.00000000e+00, 0.00000000e+00,\n",
            "       6.06456250e-02, 3.44834059e-01, 2.87717711e-02, 3.38972300e-01,\n",
            "       1.24021612e-01, 7.01601282e-02, 3.77580971e-01, 0.00000000e+00,\n",
            "       1.85394049e-01, 3.42866667e-02, 0.00000000e+00, 0.00000000e+00,\n",
            "       0.00000000e+00, 0.00000000e+00, 0.00000000e+00, 0.00000000e+00,\n",
            "       5.67736626e-01, 1.50226191e-01, 7.59781450e-02, 1.04861278e-02,\n",
            "       3.44027370e-01, 0.00000000e+00, 2.26489335e-01, 5.49820900e-01,\n",
            "       1.34819412e+00, 0.00000000e+00, 3.05464447e-01, 1.92178085e-01,\n",
            "       0.00000000e+00, 4.64306213e-02, 4.24053594e-02, 0.00000000e+00,\n",
            "       0.00000000e+00, 0.00000000e+00, 0.00000000e+00, 1.85683832e-01,\n",
            "       6.47340775e-01, 0.00000000e+00, 3.82027864e-01, 0.00000000e+00,\n",
            "       0.00000000e+00, 1.63016722e-01, 0.00000000e+00, 0.00000000e+00,\n",
            "       0.00000000e+00, 0.00000000e+00, 1.16464689e-01, 0.00000000e+00,\n",
            "       0.00000000e+00, 0.00000000e+00, 2.83591807e-01, 1.27213880e-01,\n",
            "       0.00000000e+00, 4.56689179e-01, 1.80334777e-01, 0.00000000e+00,\n",
            "       0.00000000e+00, 9.13510695e-02, 9.22989488e-01, 0.00000000e+00,\n",
            "       6.55818343e-01, 0.00000000e+00, 0.00000000e+00, 0.00000000e+00,\n",
            "       6.24584854e-01, 0.00000000e+00, 6.24047756e-01, 1.85722306e-01,\n",
            "       0.00000000e+00, 0.00000000e+00, 0.00000000e+00, 0.00000000e+00,\n",
            "       1.73231289e-01, 4.67287809e-01, 3.63276362e-01, 0.00000000e+00,\n",
            "       1.59032479e-01, 1.19330622e-01, 0.00000000e+00, 1.27588496e-01,\n",
            "       0.00000000e+00, 3.55881035e-01, 1.01388596e-01, 0.00000000e+00,\n",
            "       0.00000000e+00, 1.20038643e-01, 0.00000000e+00, 4.21466976e-01,\n",
            "       5.44924200e-01, 3.55196863e-01, 0.00000000e+00, 5.19987762e-01,\n",
            "       1.48649305e-01, 4.50515479e-01, 5.25984943e-01, 4.57653970e-01,\n",
            "       0.00000000e+00, 0.00000000e+00, 6.87061787e-01, 1.39023080e-01,\n",
            "       2.36035958e-01, 0.00000000e+00, 0.00000000e+00, 0.00000000e+00,\n",
            "       3.17836963e-02, 0.00000000e+00, 0.00000000e+00, 0.00000000e+00,\n",
            "       0.00000000e+00, 0.00000000e+00, 1.26463568e+00, 0.00000000e+00,\n",
            "       0.00000000e+00, 0.00000000e+00, 0.00000000e+00, 1.35165947e-02,\n",
            "       0.00000000e+00, 0.00000000e+00, 6.89871907e-01, 3.59241694e-01,\n",
            "       0.00000000e+00, 0.00000000e+00, 0.00000000e+00, 4.36437994e-01,\n",
            "       0.00000000e+00, 0.00000000e+00, 5.08232638e-02, 8.22307587e-01,\n",
            "       5.73237777e-01, 2.59576738e-01, 0.00000000e+00, 5.51410615e-01,\n",
            "       0.00000000e+00, 6.03385508e-01, 3.32733303e-01, 0.00000000e+00,\n",
            "       0.00000000e+00, 8.10288250e-01, 5.48330843e-01, 1.16031080e-01,\n",
            "       5.74904263e-01, 0.00000000e+00, 7.70398736e-01, 0.00000000e+00,\n",
            "       0.00000000e+00, 0.00000000e+00, 0.00000000e+00, 0.00000000e+00,\n",
            "       0.00000000e+00, 4.22370762e-01, 9.39777121e-03, 0.00000000e+00,\n",
            "       0.00000000e+00, 8.80629197e-02, 0.00000000e+00, 6.42546356e-01,\n",
            "       4.28586364e-01, 6.18842021e-02, 0.00000000e+00, 1.29982248e-01,\n",
            "       1.52289525e-01, 0.00000000e+00, 6.67120144e-02, 0.00000000e+00,\n",
            "       5.70411325e-01, 0.00000000e+00, 1.70631453e-01, 4.14766461e-01,\n",
            "       0.00000000e+00, 1.04815692e-01, 0.00000000e+00, 0.00000000e+00,\n",
            "       5.50856888e-01, 0.00000000e+00, 0.00000000e+00, 0.00000000e+00,\n",
            "       1.45808086e-01, 9.86555032e-03, 3.09829026e-01, 2.51628488e-01,\n",
            "       5.22578478e-01, 5.67469839e-03, 0.00000000e+00, 0.00000000e+00,\n",
            "       1.43566996e-01, 5.72281301e-01, 0.00000000e+00, 0.00000000e+00,\n",
            "       0.00000000e+00, 2.26069048e-01, 0.00000000e+00, 4.17256206e-01,\n",
            "       0.00000000e+00, 7.15015113e-01, 0.00000000e+00, 2.87874639e-01,\n",
            "       2.68778950e-01, 5.04107893e-01, 0.00000000e+00, 0.00000000e+00,\n",
            "       2.48389587e-01, 0.00000000e+00, 0.00000000e+00, 8.98886621e-02,\n",
            "       0.00000000e+00, 2.46212423e-01, 0.00000000e+00, 3.51387262e-01,\n",
            "       1.62383299e-02, 0.00000000e+00, 1.04477257e-01, 6.02905117e-02,\n",
            "       6.72145709e-02, 0.00000000e+00, 0.00000000e+00, 0.00000000e+00,\n",
            "       2.05475658e-01, 0.00000000e+00, 1.88423216e-01, 5.26111007e-01,\n",
            "       0.00000000e+00, 0.00000000e+00, 0.00000000e+00, 3.48491251e-01,\n",
            "       7.95556605e-01, 0.00000000e+00, 3.94240052e-01, 9.45422947e-02,\n",
            "       0.00000000e+00, 1.59813628e-01, 4.98707354e-01, 8.60435963e-02,\n",
            "       0.00000000e+00, 5.91220737e-01, 0.00000000e+00, 6.87107742e-01,\n",
            "       8.23793113e-01, 3.53390664e-01, 5.88625409e-02, 2.08166867e-01,\n",
            "       5.02551913e-01, 0.00000000e+00, 8.16616602e-03, 2.14280367e-01,\n",
            "       0.00000000e+00, 0.00000000e+00, 4.55817759e-01, 0.00000000e+00,\n",
            "       7.65831023e-02, 0.00000000e+00, 4.90028620e-01, 6.27337813e-01,\n",
            "       0.00000000e+00, 9.31057706e-02, 1.35489285e-01, 6.02410212e-02,\n",
            "       0.00000000e+00, 2.59312749e-01, 0.00000000e+00, 0.00000000e+00,\n",
            "       0.00000000e+00, 7.45084658e-02, 0.00000000e+00, 0.00000000e+00,\n",
            "       3.23227972e-01, 0.00000000e+00, 6.31039917e-01, 2.58848388e-02,\n",
            "       0.00000000e+00, 2.55181700e-01, 0.00000000e+00, 8.85875344e-01,\n",
            "       0.00000000e+00, 0.00000000e+00, 0.00000000e+00, 3.10223866e-02,\n",
            "       9.65455353e-01, 7.14881659e-01, 0.00000000e+00, 9.75085329e-03,\n",
            "       0.00000000e+00, 3.36884946e-01, 1.78327724e-01, 3.30208093e-01,\n",
            "       0.00000000e+00, 0.00000000e+00, 4.79923099e-01, 2.71277964e-01,\n",
            "       2.65192986e-01, 0.00000000e+00, 0.00000000e+00, 8.36537033e-02,\n",
            "       0.00000000e+00, 2.81777352e-01, 0.00000000e+00, 7.17060789e-02,\n",
            "       0.00000000e+00, 8.86580706e-01, 0.00000000e+00, 0.00000000e+00,\n",
            "       0.00000000e+00, 1.59721479e-01, 0.00000000e+00, 1.68136895e-01,\n",
            "       0.00000000e+00, 1.74278960e-01, 0.00000000e+00, 0.00000000e+00,\n",
            "       0.00000000e+00, 2.52576679e-01, 0.00000000e+00, 0.00000000e+00,\n",
            "       2.70605832e-01, 0.00000000e+00, 3.06772292e-01, 2.80171275e-01,\n",
            "       5.54076582e-02, 1.01450766e-02, 7.34754205e-01, 1.38527736e-01,\n",
            "       5.73967025e-02, 6.86720133e-01, 6.75478935e-01, 2.82112032e-01,\n",
            "       9.72544611e-01, 1.53541863e-01, 5.22329193e-03, 0.00000000e+00,\n",
            "       3.99847120e-01, 0.00000000e+00, 4.84106481e-01, 0.00000000e+00,\n",
            "       6.88149333e-01, 3.59720170e-01, 1.37603134e-01, 0.00000000e+00,\n",
            "       8.66013587e-01, 1.09616660e-01, 0.00000000e+00, 0.00000000e+00,\n",
            "       7.83908606e-01, 5.79905212e-01, 1.18912399e-01, 0.00000000e+00,\n",
            "       6.33446515e-01, 0.00000000e+00, 0.00000000e+00, 0.00000000e+00,\n",
            "       0.00000000e+00, 0.00000000e+00, 1.16474241e-01, 6.36558950e-01,\n",
            "       0.00000000e+00, 0.00000000e+00, 0.00000000e+00, 2.31465414e-01,\n",
            "       1.26102298e-01, 4.92559135e-01, 8.34788010e-02, 3.37857634e-01,\n",
            "       0.00000000e+00, 0.00000000e+00, 0.00000000e+00, 2.88341045e-01,\n",
            "       0.00000000e+00, 6.99435174e-02, 9.19910312e-01, 0.00000000e+00,\n",
            "       5.69233239e-01, 0.00000000e+00, 0.00000000e+00, 8.09708178e-01,\n",
            "       3.35323811e-01, 7.77119696e-01, 0.00000000e+00, 0.00000000e+00,\n",
            "       4.73324299e-01, 0.00000000e+00, 0.00000000e+00, 5.99725777e-03,\n",
            "       0.00000000e+00, 0.00000000e+00, 7.86286220e-03, 3.78583193e-01,\n",
            "       0.00000000e+00, 6.34822965e-01, 0.00000000e+00, 0.00000000e+00,\n",
            "       7.36665964e-01, 0.00000000e+00, 0.00000000e+00, 1.40169933e-01,\n",
            "       0.00000000e+00, 2.54201084e-01, 0.00000000e+00, 3.97427350e-01,\n",
            "       2.69340217e-01, 9.26349908e-02, 2.68336684e-01, 1.45447448e-01,\n",
            "       7.04242110e-01, 1.19502902e-01, 0.00000000e+00, 0.00000000e+00,\n",
            "       0.00000000e+00, 0.00000000e+00, 5.44071058e-03, 7.21436679e-01,\n",
            "       3.00981820e-01, 1.04664810e-01, 0.00000000e+00, 2.90521950e-01,\n",
            "       0.00000000e+00, 2.45093986e-01, 0.00000000e+00, 0.00000000e+00,\n",
            "       0.00000000e+00, 5.33339858e-01, 0.00000000e+00, 0.00000000e+00,\n",
            "       0.00000000e+00, 6.64195478e-01, 0.00000000e+00, 0.00000000e+00,\n",
            "       3.00450437e-03, 0.00000000e+00, 1.63223475e-01, 0.00000000e+00,\n",
            "       2.43839696e-01, 6.89097345e-01, 0.00000000e+00, 0.00000000e+00,\n",
            "       4.54214253e-02, 1.54501066e-01, 0.00000000e+00, 1.40297875e-01,\n",
            "       9.08883885e-02, 1.51103377e-01, 0.00000000e+00, 7.07307577e-01,\n",
            "       2.76491400e-02, 4.11791474e-01, 0.00000000e+00, 8.49234223e-01,\n",
            "       1.41792804e-01, 0.00000000e+00, 0.00000000e+00, 4.64187264e-01,\n",
            "       4.39367890e-01, 0.00000000e+00, 4.11076695e-01, 0.00000000e+00,\n",
            "       3.75885457e-01, 0.00000000e+00, 2.46052280e-01, 0.00000000e+00,\n",
            "       3.66779327e-01, 0.00000000e+00, 0.00000000e+00, 6.50339723e-01,\n",
            "       0.00000000e+00, 1.74294770e-01, 6.08482175e-02, 0.00000000e+00,\n",
            "       1.55984849e-01, 3.51938695e-01, 0.00000000e+00, 0.00000000e+00,\n",
            "       4.22339141e-01, 4.87919301e-01, 0.00000000e+00, 0.00000000e+00,\n",
            "       9.14938450e-02, 7.50302672e-01, 9.92733836e-02, 0.00000000e+00,\n",
            "       0.00000000e+00, 2.29466215e-01, 0.00000000e+00, 0.00000000e+00,\n",
            "       4.72935349e-01, 2.88260937e-01, 2.27983877e-01, 0.00000000e+00,\n",
            "       0.00000000e+00, 3.47849041e-01, 0.00000000e+00, 0.00000000e+00,\n",
            "       3.64470065e-01, 1.21460088e-01, 3.39009821e-01, 0.00000000e+00,\n",
            "       0.00000000e+00, 1.93955123e-01, 4.58162755e-01, 5.29333115e-01,\n",
            "       5.51278174e-01, 0.00000000e+00, 8.53493750e-01, 4.93821889e-01,\n",
            "       7.03734085e-02, 0.00000000e+00, 0.00000000e+00, 0.00000000e+00,\n",
            "       0.00000000e+00, 0.00000000e+00, 0.00000000e+00, 1.32273883e-01,\n",
            "       5.96195459e-01, 5.06991982e-01, 2.08872199e-01, 6.33818209e-01,\n",
            "       2.49682531e-01, 0.00000000e+00, 3.19428623e-01, 4.40065920e-01,\n",
            "       0.00000000e+00, 0.00000000e+00, 2.49021873e-01, 0.00000000e+00])\n",
            "    y_test_0 = 4\n"
          ]
        }
      ]
    },
    {
      "cell_type": "code",
      "source": [
        "class_values = {}\n",
        "for i in range(0,10):\n",
        "  class_values[i]=0\n",
        "for c in Y_2:\n",
        "  class_values[c]+=1\n",
        "print(class_values)\n",
        "plt.bar(class_values.keys(),class_values.values())"
      ],
      "metadata": {
        "colab": {
          "base_uri": "https://localhost:8080/"
        },
        "id": "f2ZjrHItOIBM",
        "outputId": "b6db72e9-1b58-4b5c-e949-9872b4ad15f8"
      },
      "execution_count": null,
      "outputs": [
        {
          "output_type": "stream",
          "name": "stdout",
          "text": [
            "{0: 5000, 1: 5000, 2: 5000, 3: 5000, 4: 5000, 5: 5000, 6: 5000, 7: 5000, 8: 5000, 9: 5000}\n"
          ]
        },
        {
          "output_type": "execute_result",
          "data": {
            "text/plain": [
              "<BarContainer object of 10 artists>"
            ]
          },
          "metadata": {},
          "execution_count": 17
        },
        {
          "output_type": "display_data",
          "data": {
            "text/plain": [
              "<Figure size 640x480 with 1 Axes>"
            ],
            "image/png": "[encoded data removed]"
          },
          "metadata": {}
        }
      ]
    },
    {
      "cell_type": "markdown",
      "source": [
        "#LEARNING 2"
      ],
      "metadata": {
        "id": "OO1WxpPdBAOO"
      }
    },
    {
      "cell_type": "markdown",
      "source": [
        "##Create a models and Cross Validation"
      ],
      "metadata": {
        "id": "SYCP6e0Mdb9f"
      }
    },
    {
      "cell_type": "markdown",
      "source": [
        "**Decision Tree**"
      ],
      "metadata": {
        "id": "T1XyHf1aeC0_"
      }
    },
    {
      "cell_type": "code",
      "source": [
        "#hyperparameters: criteria of the split, strategy to split at each node, maximum depth of the tree\n",
        "set_of_criteria = ['gini', 'entropy', 'log_loss']\n",
        "type_of_split = ['best', 'random']\n",
        "max_depth = np.array(range(1,31))\n",
        "\n",
        "# K-Fold Cross-Validation\n",
        "\n",
        "crit = set_of_criteria[0]\n",
        "split = type_of_split[0]\n",
        "depth = max_depth[0]\n",
        "max_accuracy = 0.0\n",
        "\n",
        "for c in set_of_criteria:\n",
        "  for s in type_of_split:\n",
        "    for d in max_depth:\n",
        "      dt = tree.DecisionTreeClassifier(criterion=c, splitter=s, max_depth=d)\n",
        "      score = cross_val_score(dt, X_train_2, y_train_2, cv=5, scoring='accuracy').mean()\n",
        "      if(score > max_accuracy):\n",
        "        max_accuracy = score\n",
        "        crit = c\n",
        "        split = s\n",
        "        depth = d\n",
        "\n",
        "print('the hyperparameters choosen are criterion=%s, split=%s, depth=%s and the max accuracy is %.3f' %(crit,split,str(depth),max_accuracy))"
      ],
      "metadata": {
        "id": "XY4te6ruBG6O",
        "colab": {
          "base_uri": "https://localhost:8080/"
        },
        "outputId": "8dd96428-54b4-4cde-f37a-1331c5c5d77e"
      },
      "execution_count": null,
      "outputs": [
        {
          "output_type": "stream",
          "name": "stdout",
          "text": [
            "the hyperparameters choosen are criterion=gini, split=best, depth=13 and the max accuracy is 0.958\n"
          ]
        }
      ]
    },
    {
      "cell_type": "code",
      "source": [
        "decision_tree_2 = tree.DecisionTreeClassifier(criterion='gini', splitter='best', max_depth=13)"
      ],
      "metadata": {
        "id": "r7_tFvdSXWJG"
      },
      "execution_count": null,
      "outputs": []
    },
    {
      "cell_type": "markdown",
      "source": [
        "**SVM**"
      ],
      "metadata": {
        "id": "ecms6JAmevBF"
      }
    },
    {
      "cell_type": "code",
      "source": [
        "#hyperparameters:  kernel, degree of the polynomial function if kernel=='poly' (ignored by all other kernels), kernel coefficient for 'rbf', 'poly' and 'sigmoid' (gamma)\n",
        "degree_range = [1,2,3]\n",
        "kernel_set = ['linear', 'poly', 'rbf', 'sigmoid']\n",
        "gamma_set = ['scale','auto']\n",
        "\n",
        "# K-Fold Cross-Validation\n",
        "\n",
        "kernel_name  = kernel_set[0]\n",
        "num_degree = degree_range[0]\n",
        "g = gamma_set[0]\n",
        "max_accuracy = 0.0\n",
        "\n",
        "for k in kernel_set:\n",
        "  for d in degree_range:\n",
        "    for gg in gamma_set:\n",
        "      if k!='linear':\n",
        "        if k=='poly':\n",
        "          sc=svm.SVC(C=1.0, kernel=k, degree=d, gamma=gg)\n",
        "        else:\n",
        "          sc=svm.SVC(C=1.0, kernel=k, gamma=gg)\n",
        "      else:\n",
        "        sc=svm.SVC(C=1.0, kernel=k)\n",
        "      score = cross_val_score(sc, X_train_2, y_train_2, cv=5, scoring='accuracy').mean()\n",
        "      if(score > max_accuracy):\n",
        "        max_accuracy = score\n",
        "        g = gg\n",
        "        num_degree = d\n",
        "        kernel_name = k\n",
        "\n",
        "print('the hyperparameters choosen are kernel=%s, degree=%s, gamma=%s and the max accuracy is %.3f' %(kernel_name,str(num_degree),g,max_accuracy))"
      ],
      "metadata": {
        "id": "CwFYOlEKex4P",
        "colab": {
          "base_uri": "https://localhost:8080/"
        },
        "outputId": "c300d880-1f11-45c6-9dfc-3e3d5ced2855"
      },
      "execution_count": null,
      "outputs": [
        {
          "output_type": "stream",
          "name": "stdout",
          "text": [
            "the hyperparameters choosen are kernel=poly, degree=3, gamma=scale and the max accuracy is 0.974\n"
          ]
        }
      ]
    },
    {
      "cell_type": "code",
      "source": [
        "svm_c_2 = svm.SVC(C=1.0, kernel='poly', degree=3, gamma='scale')"
      ],
      "metadata": {
        "id": "TROgrYJMXfXU"
      },
      "execution_count": null,
      "outputs": []
    },
    {
      "cell_type": "markdown",
      "source": [
        "**KNN**"
      ],
      "metadata": {
        "id": "iorpUbTre4oD"
      }
    },
    {
      "cell_type": "code",
      "source": [
        "#hyperparameters: number of nearest neighbors, weight function, Algorithm used to compute the nearest neighbors\n",
        "neighbors_range = np.array(range(1,11))\n",
        "weight_set = ['uniform','distance']\n",
        "algorithms = ['auto', 'ball_tree', 'kd_tree', 'brute']\n",
        "#K-Fold Cross-Validation\n",
        "\n",
        "num_neighbors = neighbors_range[0]\n",
        "weight_type = weight_set[0]\n",
        "alg = algorithms[0]\n",
        "max_accuracy=0.0\n",
        "\n",
        "for n in neighbors_range:\n",
        "  for w in weight_set:\n",
        "    for a in algorithms:\n",
        "      nn=KNeighborsClassifier(n_neighbors=n, weights=w, algorithm=a)\n",
        "      score = cross_val_score(nn, X_train_2, y_train_2, cv=5, scoring='accuracy').mean()\n",
        "      if(score > max_accuracy):\n",
        "        max_accuracy = score\n",
        "        num_neighbors = n\n",
        "        weight_type = w\n",
        "        alg = a\n",
        "\n",
        "print('the hyperparameters choosen are number of neighbors=%s, weights=%s, algorithm=%s and the max accuracy is %.3f' %(str(num_neighbors),weight_type,alg,max_accuracy))"
      ],
      "metadata": {
        "id": "J4RuMRy0e8EU",
        "colab": {
          "base_uri": "https://localhost:8080/"
        },
        "outputId": "048820a2-8f0b-4716-d4da-d48cd76e7e1d"
      },
      "execution_count": null,
      "outputs": [
        {
          "output_type": "stream",
          "name": "stdout",
          "text": [
            "the hyperparameters choosen are number of neighbors=10, algorithm=distance, depth=auto and the max accuracy is 0.972\n"
          ]
        }
      ]
    },
    {
      "cell_type": "code",
      "source": [
        "knn_2 = KNeighborsClassifier(n_neighbors=10, weights='distance', algorithm='auto')"
      ],
      "metadata": {
        "id": "xRxWXIB-XpWe"
      },
      "execution_count": null,
      "outputs": []
    },
    {
      "cell_type": "markdown",
      "source": [
        "##Fit the models"
      ],
      "metadata": {
        "id": "xX6ungH9di6U"
      }
    },
    {
      "cell_type": "code",
      "source": [
        "decision_tree_2.fit(X_train_2, y_train_2)"
      ],
      "metadata": {
        "id": "9hLJEynvdn6u",
        "colab": {
          "base_uri": "https://localhost:8080/",
          "height": 74
        },
        "outputId": "01d438da-36d8-4383-cfe8-fe2e0d765af5"
      },
      "execution_count": null,
      "outputs": [
        {
          "output_type": "execute_result",
          "data": {
            "text/plain": [
              "DecisionTreeClassifier(max_depth=13)"
            ],
            "text/html": [
              "<style>#sk-container-id-4 {color: black;background-color: white;}#sk-container-id-4 pre{padding: 0;}#sk-container-id-4 div.sk-toggleable {background-color: white;}#sk-container-id-4 label.sk-toggleable__label {cursor: pointer;display: block;width: 100%;margin-bottom: 0;padding: 0.3em;box-sizing: border-box;text-align: center;}#sk-container-id-4 label.sk-toggleable__label-arrow:before {content: \"▸\";float: left;margin-right: 0.25em;color: #696969;}#sk-container-id-4 label.sk-toggleable__label-arrow:hover:before {color: black;}#sk-container-id-4 div.sk-estimator:hover label.sk-toggleable__label-arrow:before {color: black;}#sk-container-id-4 div.sk-toggleable__content {max-height: 0;max-width: 0;overflow: hidden;text-align: left;background-color: #f0f8ff;}#sk-container-id-4 div.sk-toggleable__content pre {margin: 0.2em;color: black;border-radius: 0.25em;background-color: #f0f8ff;}#sk-container-id-4 input.sk-toggleable__control:checked~div.sk-toggleable__content {max-height: 200px;max-width: 100%;overflow: auto;}#sk-container-id-4 input.sk-toggleable__control:checked~label.sk-toggleable__label-arrow:before {content: \"▾\";}#sk-container-id-4 div.sk-estimator input.sk-toggleable__control:checked~label.sk-toggleable__label {background-color: #d4ebff;}#sk-container-id-4 div.sk-label input.sk-toggleable__control:checked~label.sk-toggleable__label {background-color: #d4ebff;}#sk-container-id-4 input.sk-hidden--visually {border: 0;clip: rect(1px 1px 1px 1px);clip: rect(1px, 1px, 1px, 1px);height: 1px;margin: -1px;overflow: hidden;padding: 0;position: absolute;width: 1px;}#sk-container-id-4 div.sk-estimator {font-family: monospace;background-color: #f0f8ff;border: 1px dotted black;border-radius: 0.25em;box-sizing: border-box;margin-bottom: 0.5em;}#sk-container-id-4 div.sk-estimator:hover {background-color: #d4ebff;}#sk-container-id-4 div.sk-parallel-item::after {content: \"\";width: 100%;border-bottom: 1px solid gray;flex-grow: 1;}#sk-container-id-4 div.sk-label:hover label.sk-toggleable__label {background-color: #d4ebff;}#sk-container-id-4 div.sk-serial::before {content: \"\";position: absolute;border-left: 1px solid gray;box-sizing: border-box;top: 0;bottom: 0;left: 50%;z-index: 0;}#sk-container-id-4 div.sk-serial {display: flex;flex-direction: column;align-items: center;background-color: white;padding-right: 0.2em;padding-left: 0.2em;position: relative;}#sk-container-id-4 div.sk-item {position: relative;z-index: 1;}#sk-container-id-4 div.sk-parallel {display: flex;align-items: stretch;justify-content: center;background-color: white;position: relative;}#sk-container-id-4 div.sk-item::before, #sk-container-id-4 div.sk-parallel-item::before {content: \"\";position: absolute;border-left: 1px solid gray;box-sizing: border-box;top: 0;bottom: 0;left: 50%;z-index: -1;}#sk-container-id-4 div.sk-parallel-item {display: flex;flex-direction: column;z-index: 1;position: relative;background-color: white;}#sk-container-id-4 div.sk-parallel-item:first-child::after {align-self: flex-end;width: 50%;}#sk-container-id-4 div.sk-parallel-item:last-child::after {align-self: flex-start;width: 50%;}#sk-container-id-4 div.sk-parallel-item:only-child::after {width: 0;}#sk-container-id-4 div.sk-dashed-wrapped {border: 1px dashed gray;margin: 0 0.4em 0.5em 0.4em;box-sizing: border-box;padding-bottom: 0.4em;background-color: white;}#sk-container-id-4 div.sk-label label {font-family: monospace;font-weight: bold;display: inline-block;line-height: 1.2em;}#sk-container-id-4 div.sk-label-container {text-align: center;}#sk-container-id-4 div.sk-container {/* jupyter's `normalize.less` sets `[hidden] { display: none; }` but bootstrap.min.css set `[hidden] { display: none !important; }` so we also need the `!important` here to be able to override the default hidden behavior on the sphinx rendered scikit-learn.org. See: https://github.com/scikit-learn/scikit-learn/issues/21755 */display: inline-block !important;position: relative;}#sk-container-id-4 div.sk-text-repr-fallback {display: none;}</style><div id=\"sk-container-id-4\" class=\"sk-top-container\"><div class=\"sk-text-repr-fallback\"><pre>DecisionTreeClassifier(max_depth=13)</pre><b>In a Jupyter environment, please rerun this cell to show the HTML representation or trust the notebook. <br />On GitHub, the HTML representation is unable to render, please try loading this page with nbviewer.org.</b></div><div class=\"sk-container\" hidden><div class=\"sk-item\"><div class=\"sk-estimator sk-toggleable\"><input class=\"sk-toggleable__control sk-hidden--visually\" id=\"sk-estimator-id-4\" type=\"checkbox\" checked><label for=\"sk-estimator-id-4\" class=\"sk-toggleable__label sk-toggleable__label-arrow\">DecisionTreeClassifier</label><div class=\"sk-toggleable__content\"><pre>DecisionTreeClassifier(max_depth=13)</pre></div></div></div></div></div>"
            ]
          },
          "metadata": {},
          "execution_count": 57
        }
      ]
    },
    {
      "cell_type": "code",
      "source": [
        "svm_c_2.fit(X_train_2, y_train_2)"
      ],
      "metadata": {
        "id": "gqY1_gMlfWp0",
        "colab": {
          "base_uri": "https://localhost:8080/",
          "height": 74
        },
        "outputId": "310ece8b-5b36-44eb-e1f5-a41d81a1554a"
      },
      "execution_count": null,
      "outputs": [
        {
          "output_type": "execute_result",
          "data": {
            "text/plain": [
              "SVC(kernel='poly')"
            ],
            "text/html": [
              "<style>#sk-container-id-2 {color: black;background-color: white;}#sk-container-id-2 pre{padding: 0;}#sk-container-id-2 div.sk-toggleable {background-color: white;}#sk-container-id-2 label.sk-toggleable__label {cursor: pointer;display: block;width: 100%;margin-bottom: 0;padding: 0.3em;box-sizing: border-box;text-align: center;}#sk-container-id-2 label.sk-toggleable__label-arrow:before {content: \"▸\";float: left;margin-right: 0.25em;color: #696969;}#sk-container-id-2 label.sk-toggleable__label-arrow:hover:before {color: black;}#sk-container-id-2 div.sk-estimator:hover label.sk-toggleable__label-arrow:before {color: black;}#sk-container-id-2 div.sk-toggleable__content {max-height: 0;max-width: 0;overflow: hidden;text-align: left;background-color: #f0f8ff;}#sk-container-id-2 div.sk-toggleable__content pre {margin: 0.2em;color: black;border-radius: 0.25em;background-color: #f0f8ff;}#sk-container-id-2 input.sk-toggleable__control:checked~div.sk-toggleable__content {max-height: 200px;max-width: 100%;overflow: auto;}#sk-container-id-2 input.sk-toggleable__control:checked~label.sk-toggleable__label-arrow:before {content: \"▾\";}#sk-container-id-2 div.sk-estimator input.sk-toggleable__control:checked~label.sk-toggleable__label {background-color: #d4ebff;}#sk-container-id-2 div.sk-label input.sk-toggleable__control:checked~label.sk-toggleable__label {background-color: #d4ebff;}#sk-container-id-2 input.sk-hidden--visually {border: 0;clip: rect(1px 1px 1px 1px);clip: rect(1px, 1px, 1px, 1px);height: 1px;margin: -1px;overflow: hidden;padding: 0;position: absolute;width: 1px;}#sk-container-id-2 div.sk-estimator {font-family: monospace;background-color: #f0f8ff;border: 1px dotted black;border-radius: 0.25em;box-sizing: border-box;margin-bottom: 0.5em;}#sk-container-id-2 div.sk-estimator:hover {background-color: #d4ebff;}#sk-container-id-2 div.sk-parallel-item::after {content: \"\";width: 100%;border-bottom: 1px solid gray;flex-grow: 1;}#sk-container-id-2 div.sk-label:hover label.sk-toggleable__label {background-color: #d4ebff;}#sk-container-id-2 div.sk-serial::before {content: \"\";position: absolute;border-left: 1px solid gray;box-sizing: border-box;top: 0;bottom: 0;left: 50%;z-index: 0;}#sk-container-id-2 div.sk-serial {display: flex;flex-direction: column;align-items: center;background-color: white;padding-right: 0.2em;padding-left: 0.2em;position: relative;}#sk-container-id-2 div.sk-item {position: relative;z-index: 1;}#sk-container-id-2 div.sk-parallel {display: flex;align-items: stretch;justify-content: center;background-color: white;position: relative;}#sk-container-id-2 div.sk-item::before, #sk-container-id-2 div.sk-parallel-item::before {content: \"\";position: absolute;border-left: 1px solid gray;box-sizing: border-box;top: 0;bottom: 0;left: 50%;z-index: -1;}#sk-container-id-2 div.sk-parallel-item {display: flex;flex-direction: column;z-index: 1;position: relative;background-color: white;}#sk-container-id-2 div.sk-parallel-item:first-child::after {align-self: flex-end;width: 50%;}#sk-container-id-2 div.sk-parallel-item:last-child::after {align-self: flex-start;width: 50%;}#sk-container-id-2 div.sk-parallel-item:only-child::after {width: 0;}#sk-container-id-2 div.sk-dashed-wrapped {border: 1px dashed gray;margin: 0 0.4em 0.5em 0.4em;box-sizing: border-box;padding-bottom: 0.4em;background-color: white;}#sk-container-id-2 div.sk-label label {font-family: monospace;font-weight: bold;display: inline-block;line-height: 1.2em;}#sk-container-id-2 div.sk-label-container {text-align: center;}#sk-container-id-2 div.sk-container {/* jupyter's `normalize.less` sets `[hidden] { display: none; }` but bootstrap.min.css set `[hidden] { display: none !important; }` so we also need the `!important` here to be able to override the default hidden behavior on the sphinx rendered scikit-learn.org. See: https://github.com/scikit-learn/scikit-learn/issues/21755 */display: inline-block !important;position: relative;}#sk-container-id-2 div.sk-text-repr-fallback {display: none;}</style><div id=\"sk-container-id-2\" class=\"sk-top-container\"><div class=\"sk-text-repr-fallback\"><pre>SVC(kernel=&#x27;poly&#x27;)</pre><b>In a Jupyter environment, please rerun this cell to show the HTML representation or trust the notebook. <br />On GitHub, the HTML representation is unable to render, please try loading this page with nbviewer.org.</b></div><div class=\"sk-container\" hidden><div class=\"sk-item\"><div class=\"sk-estimator sk-toggleable\"><input class=\"sk-toggleable__control sk-hidden--visually\" id=\"sk-estimator-id-2\" type=\"checkbox\" checked><label for=\"sk-estimator-id-2\" class=\"sk-toggleable__label sk-toggleable__label-arrow\">SVC</label><div class=\"sk-toggleable__content\"><pre>SVC(kernel=&#x27;poly&#x27;)</pre></div></div></div></div></div>"
            ]
          },
          "metadata": {},
          "execution_count": 19
        }
      ]
    },
    {
      "cell_type": "code",
      "source": [
        "knn_2.fit(X_train_2, y_train_2)"
      ],
      "metadata": {
        "id": "WvohfbbdfW_r",
        "colab": {
          "base_uri": "https://localhost:8080/",
          "height": 74
        },
        "outputId": "ef18dce5-0280-4e76-a88a-dcbef897a9f6"
      },
      "execution_count": null,
      "outputs": [
        {
          "output_type": "execute_result",
          "data": {
            "text/plain": [
              "KNeighborsClassifier(n_neighbors=10, weights='distance')"
            ],
            "text/html": [
              "<style>#sk-container-id-6 {color: black;background-color: white;}#sk-container-id-6 pre{padding: 0;}#sk-container-id-6 div.sk-toggleable {background-color: white;}#sk-container-id-6 label.sk-toggleable__label {cursor: pointer;display: block;width: 100%;margin-bottom: 0;padding: 0.3em;box-sizing: border-box;text-align: center;}#sk-container-id-6 label.sk-toggleable__label-arrow:before {content: \"▸\";float: left;margin-right: 0.25em;color: #696969;}#sk-container-id-6 label.sk-toggleable__label-arrow:hover:before {color: black;}#sk-container-id-6 div.sk-estimator:hover label.sk-toggleable__label-arrow:before {color: black;}#sk-container-id-6 div.sk-toggleable__content {max-height: 0;max-width: 0;overflow: hidden;text-align: left;background-color: #f0f8ff;}#sk-container-id-6 div.sk-toggleable__content pre {margin: 0.2em;color: black;border-radius: 0.25em;background-color: #f0f8ff;}#sk-container-id-6 input.sk-toggleable__control:checked~div.sk-toggleable__content {max-height: 200px;max-width: 100%;overflow: auto;}#sk-container-id-6 input.sk-toggleable__control:checked~label.sk-toggleable__label-arrow:before {content: \"▾\";}#sk-container-id-6 div.sk-estimator input.sk-toggleable__control:checked~label.sk-toggleable__label {background-color: #d4ebff;}#sk-container-id-6 div.sk-label input.sk-toggleable__control:checked~label.sk-toggleable__label {background-color: #d4ebff;}#sk-container-id-6 input.sk-hidden--visually {border: 0;clip: rect(1px 1px 1px 1px);clip: rect(1px, 1px, 1px, 1px);height: 1px;margin: -1px;overflow: hidden;padding: 0;position: absolute;width: 1px;}#sk-container-id-6 div.sk-estimator {font-family: monospace;background-color: #f0f8ff;border: 1px dotted black;border-radius: 0.25em;box-sizing: border-box;margin-bottom: 0.5em;}#sk-container-id-6 div.sk-estimator:hover {background-color: #d4ebff;}#sk-container-id-6 div.sk-parallel-item::after {content: \"\";width: 100%;border-bottom: 1px solid gray;flex-grow: 1;}#sk-container-id-6 div.sk-label:hover label.sk-toggleable__label {background-color: #d4ebff;}#sk-container-id-6 div.sk-serial::before {content: \"\";position: absolute;border-left: 1px solid gray;box-sizing: border-box;top: 0;bottom: 0;left: 50%;z-index: 0;}#sk-container-id-6 div.sk-serial {display: flex;flex-direction: column;align-items: center;background-color: white;padding-right: 0.2em;padding-left: 0.2em;position: relative;}#sk-container-id-6 div.sk-item {position: relative;z-index: 1;}#sk-container-id-6 div.sk-parallel {display: flex;align-items: stretch;justify-content: center;background-color: white;position: relative;}#sk-container-id-6 div.sk-item::before, #sk-container-id-6 div.sk-parallel-item::before {content: \"\";position: absolute;border-left: 1px solid gray;box-sizing: border-box;top: 0;bottom: 0;left: 50%;z-index: -1;}#sk-container-id-6 div.sk-parallel-item {display: flex;flex-direction: column;z-index: 1;position: relative;background-color: white;}#sk-container-id-6 div.sk-parallel-item:first-child::after {align-self: flex-end;width: 50%;}#sk-container-id-6 div.sk-parallel-item:last-child::after {align-self: flex-start;width: 50%;}#sk-container-id-6 div.sk-parallel-item:only-child::after {width: 0;}#sk-container-id-6 div.sk-dashed-wrapped {border: 1px dashed gray;margin: 0 0.4em 0.5em 0.4em;box-sizing: border-box;padding-bottom: 0.4em;background-color: white;}#sk-container-id-6 div.sk-label label {font-family: monospace;font-weight: bold;display: inline-block;line-height: 1.2em;}#sk-container-id-6 div.sk-label-container {text-align: center;}#sk-container-id-6 div.sk-container {/* jupyter's `normalize.less` sets `[hidden] { display: none; }` but bootstrap.min.css set `[hidden] { display: none !important; }` so we also need the `!important` here to be able to override the default hidden behavior on the sphinx rendered scikit-learn.org. See: https://github.com/scikit-learn/scikit-learn/issues/21755 */display: inline-block !important;position: relative;}#sk-container-id-6 div.sk-text-repr-fallback {display: none;}</style><div id=\"sk-container-id-6\" class=\"sk-top-container\"><div class=\"sk-text-repr-fallback\"><pre>KNeighborsClassifier(n_neighbors=10, weights=&#x27;distance&#x27;)</pre><b>In a Jupyter environment, please rerun this cell to show the HTML representation or trust the notebook. <br />On GitHub, the HTML representation is unable to render, please try loading this page with nbviewer.org.</b></div><div class=\"sk-container\" hidden><div class=\"sk-item\"><div class=\"sk-estimator sk-toggleable\"><input class=\"sk-toggleable__control sk-hidden--visually\" id=\"sk-estimator-id-6\" type=\"checkbox\" checked><label for=\"sk-estimator-id-6\" class=\"sk-toggleable__label sk-toggleable__label-arrow\">KNeighborsClassifier</label><div class=\"sk-toggleable__content\"><pre>KNeighborsClassifier(n_neighbors=10, weights=&#x27;distance&#x27;)</pre></div></div></div></div></div>"
            ]
          },
          "metadata": {},
          "execution_count": 59
        }
      ]
    },
    {
      "cell_type": "markdown",
      "source": [
        "##Evaluate the models"
      ],
      "metadata": {
        "id": "jBgVBpkNdqx1"
      }
    },
    {
      "cell_type": "markdown",
      "source": [
        "###Accuracy"
      ],
      "metadata": {
        "id": "yVsJ98PjfwrG"
      }
    },
    {
      "cell_type": "code",
      "source": [
        "acc1_2 = decision_tree_2.score(X_test_2, y_test_2)\n",
        "print(\"Accuracy of decision tree is %.3f\" %acc1_2)"
      ],
      "metadata": {
        "id": "v-sCvOgidtLI",
        "colab": {
          "base_uri": "https://localhost:8080/"
        },
        "outputId": "13a1700f-c1b9-469a-8afb-a7f5419bbb52"
      },
      "execution_count": null,
      "outputs": [
        {
          "output_type": "stream",
          "name": "stdout",
          "text": [
            "Accuracy of decision tree is 0.956\n"
          ]
        }
      ]
    },
    {
      "cell_type": "code",
      "source": [
        "acc2_2 = svm_c_2.score(X_test_2, y_test_2)\n",
        "print(\"Accuracy of SVM is %.3f\" %acc2_2)"
      ],
      "metadata": {
        "id": "MPRoUBnQf2Y2",
        "colab": {
          "base_uri": "https://localhost:8080/"
        },
        "outputId": "fc326955-fa11-4284-d5f6-8ba5bfb1fe56"
      },
      "execution_count": null,
      "outputs": [
        {
          "output_type": "stream",
          "name": "stdout",
          "text": [
            "Accuracy of SVM is 0.973\n"
          ]
        }
      ]
    },
    {
      "cell_type": "code",
      "source": [
        "acc3_2 = knn_2.score(X_test_2, y_test_2)\n",
        "print(\"Accuracy of KNN is %.3f\" %acc3_2)"
      ],
      "metadata": {
        "id": "tKLIB1rAf2r2",
        "colab": {
          "base_uri": "https://localhost:8080/"
        },
        "outputId": "7cddaf14-d4c4-4c8f-e6b1-e25839ab71b0"
      },
      "execution_count": null,
      "outputs": [
        {
          "output_type": "stream",
          "name": "stdout",
          "text": [
            "Accuracy of KNN is 0.971\n"
          ]
        }
      ]
    },
    {
      "cell_type": "markdown",
      "source": [
        "###Precision and Recall"
      ],
      "metadata": {
        "id": "T5RcKnR9gN38"
      }
    },
    {
      "cell_type": "code",
      "source": [
        "print(\"Precision and Recall table of decision tree is:\")\n",
        "print(classification_report(y_test_2, decision_tree_2.predict(X_test_2), labels=None, target_names=['0','1','2','3','4','5','6','7','8','9'], digits=3))"
      ],
      "metadata": {
        "id": "J8mdcDomgQgV",
        "colab": {
          "base_uri": "https://localhost:8080/"
        },
        "outputId": "a6acd5a2-3a8b-409c-e412-271b58d88f67"
      },
      "execution_count": null,
      "outputs": [
        {
          "output_type": "stream",
          "name": "stdout",
          "text": [
            "Precision and Recall table of decision tree is:\n",
            "              precision    recall  f1-score   support\n",
            "\n",
            "           0      0.974     0.972     0.973      1036\n",
            "           1      0.982     0.978     0.980      1008\n",
            "           2      0.965     0.947     0.956       998\n",
            "           3      0.877     0.892     0.885       958\n",
            "           4      0.938     0.959     0.949       981\n",
            "           5      0.900     0.914     0.907      1019\n",
            "           6      0.979     0.970     0.975      1010\n",
            "           7      0.974     0.962     0.968       969\n",
            "           8      0.989     0.987     0.988       998\n",
            "           9      0.982     0.977     0.979      1023\n",
            "\n",
            "    accuracy                          0.956     10000\n",
            "   macro avg      0.956     0.956     0.956     10000\n",
            "weighted avg      0.956     0.956     0.956     10000\n",
            "\n"
          ]
        }
      ]
    },
    {
      "cell_type": "code",
      "source": [
        "print(\"Precision and Recall table of SVM is:\")\n",
        "print(classification_report(y_test_2, svm_c_2.predict(X_test_2), labels=None, target_names=['0','1','2','3','4','5','6','7','8','9'], digits=3))"
      ],
      "metadata": {
        "id": "kJIgeEC9gRkK",
        "colab": {
          "base_uri": "https://localhost:8080/"
        },
        "outputId": "67c50540-390b-4c08-a77b-60e0ebb91a8c"
      },
      "execution_count": null,
      "outputs": [
        {
          "output_type": "stream",
          "name": "stdout",
          "text": [
            "Precision and Recall table of SVM is:\n",
            "              precision    recall  f1-score   support\n",
            "\n",
            "           0      0.981     0.986     0.984      1036\n",
            "           1      0.989     0.988     0.989      1008\n",
            "           2      0.976     0.963     0.969       998\n",
            "           3      0.907     0.931     0.919       958\n",
            "           4      0.976     0.972     0.974       981\n",
            "           5      0.942     0.930     0.936      1019\n",
            "           6      0.986     0.986     0.986      1010\n",
            "           7      0.985     0.983     0.984       969\n",
            "           8      0.992     0.995     0.993       998\n",
            "           9      0.989     0.987     0.988      1023\n",
            "\n",
            "    accuracy                          0.973     10000\n",
            "   macro avg      0.972     0.972     0.972     10000\n",
            "weighted avg      0.973     0.973     0.973     10000\n",
            "\n"
          ]
        }
      ]
    },
    {
      "cell_type": "code",
      "source": [
        "print(\"Precision and Recall table of KNN is:\")\n",
        "print(classification_report(y_test_2, knn_2.predict(X_test_2), labels=None, target_names=['0','1','2','3','4','5','6','7','8','9'], digits=3))"
      ],
      "metadata": {
        "id": "upbtirZogR8B",
        "colab": {
          "base_uri": "https://localhost:8080/"
        },
        "outputId": "e6ab1893-3d66-42b4-a37a-d4e5d9fcabf3"
      },
      "execution_count": null,
      "outputs": [
        {
          "output_type": "stream",
          "name": "stdout",
          "text": [
            "Precision and Recall table of KNN is:\n",
            "              precision    recall  f1-score   support\n",
            "\n",
            "           0      0.977     0.985     0.981      1036\n",
            "           1      0.988     0.989     0.989      1008\n",
            "           2      0.969     0.966     0.967       998\n",
            "           3      0.908     0.922     0.915       958\n",
            "           4      0.975     0.975     0.975       981\n",
            "           5      0.941     0.921     0.931      1019\n",
            "           6      0.983     0.986     0.985      1010\n",
            "           7      0.982     0.982     0.982       969\n",
            "           8      0.992     0.995     0.993       998\n",
            "           9      0.990     0.985     0.988      1023\n",
            "\n",
            "    accuracy                          0.971     10000\n",
            "   macro avg      0.971     0.971     0.971     10000\n",
            "weighted avg      0.971     0.971     0.971     10000\n",
            "\n"
          ]
        }
      ]
    },
    {
      "cell_type": "markdown",
      "source": [
        "###Confusion Matrix"
      ],
      "metadata": {
        "id": "fL74XBLvgxkW"
      }
    },
    {
      "cell_type": "code",
      "source": [
        "cmd_2 = confusion_matrix(y_test_2, decision_tree_2.predict(X_test_2), labels=None, sample_weight=None)\n",
        "print(cmd_2)\n",
        "plt.rcParams[\"figure.figsize\"] = (8,8)\n",
        "plot_confusion_matrix(y_test_2, decision_tree_2.predict(X_test_2), classes=['0','1','2','3','4','5','6','7','8','9'], normalize=False, title='Confusion matrix of decision tree')"
      ],
      "metadata": {
        "id": "DLkT9IPfg0IZ",
        "colab": {
          "base_uri": "https://localhost:8080/",
          "height": 996
        },
        "outputId": "9ccdfee3-484c-462d-d5af-9e311314b4e9"
      },
      "execution_count": null,
      "outputs": [
        {
          "output_type": "stream",
          "name": "stdout",
          "text": [
            "[[1007    0    9    1    5    1    5    4    4    0]\n",
            " [   1  986    0    2    0    1    0    0    5   13]\n",
            " [  13    0  945   11   15    6    5    2    0    1]\n",
            " [   1    1   10  855   10   70    6    4    1    0]\n",
            " [   3    0    5   12  941    9    2    9    0    0]\n",
            " [   1    0    1   69   11  931    1    5    0    0]\n",
            " [   1    1    6   13    6    2  980    0    0    1]\n",
            " [   3    1    2    8   10   13    0  932    0    0]\n",
            " [   4    1    1    1    1    0    2    0  985    3]\n",
            " [   0   14    0    3    4    1    0    1    1  999]]\n"
          ]
        },
        {
          "output_type": "execute_result",
          "data": {
            "text/plain": [
              "<Axes: title={'center': 'Confusion matrix of decision tree'}, xlabel='Predicted label', ylabel='True label'>"
            ]
          },
          "metadata": {},
          "execution_count": 67
        },
        {
          "output_type": "display_data",
          "data": {
            "text/plain": [
              "<Figure size 800x800 with 2 Axes>"
            ],
            "image/png": "[encoded data removed]"
          },
          "metadata": {}
        }
      ]
    },
    {
      "cell_type": "code",
      "source": [
        "cmsvm_2 = confusion_matrix(y_test_2, svm_c_2.predict(X_test_2), labels=None, sample_weight=None)\n",
        "print(cmsvm_2)\n",
        "plt.rcParams[\"figure.figsize\"] = (8,8)\n",
        "plot_confusion_matrix(y_test_2, svm_c_2.predict(X_test_2), classes=['0','1','2','3','4','5','6','7','8','9'], normalize=False, title='Confusion matrix of SVM')"
      ],
      "metadata": {
        "id": "WjMZtubtg1Lw",
        "colab": {
          "base_uri": "https://localhost:8080/",
          "height": 998
        },
        "outputId": "0442c18e-8b47-4c68-86b3-e646314c0eac"
      },
      "execution_count": null,
      "outputs": [
        {
          "output_type": "stream",
          "name": "stdout",
          "text": [
            "[[1022    0    5    2    1    0    0    1    4    1]\n",
            " [   0  996    0    0    0    0    0    0    2   10]\n",
            " [  13    0  961    5    6    3    8    2    0    0]\n",
            " [   1    0    9  892    7   42    4    2    1    0]\n",
            " [   1    0    5   11  954    6    1    3    0    0]\n",
            " [   0    0    0   59    5  948    1    6    0    0]\n",
            " [   1    1    3    6    2    1  996    0    0    0]\n",
            " [   2    0    0    6    2    6    0  953    0    0]\n",
            " [   2    1    2    0    0    0    0    0  993    0]\n",
            " [   0    9    0    2    0    0    0    1    1 1010]]\n"
          ]
        },
        {
          "output_type": "execute_result",
          "data": {
            "text/plain": [
              "<Axes: title={'center': 'Confusion matrix of SVM'}, xlabel='Predicted label', ylabel='True label'>"
            ]
          },
          "metadata": {},
          "execution_count": 68
        },
        {
          "output_type": "display_data",
          "data": {
            "text/plain": [
              "<Figure size 800x800 with 2 Axes>"
            ],
            "image/png": "[encoded data removed]"
          },
          "metadata": {}
        }
      ]
    },
    {
      "cell_type": "code",
      "source": [
        "cmknn_2 = confusion_matrix(y_test_2, knn_2.predict(X_test_2), labels=None, sample_weight=None)\n",
        "print(cmknn_2)\n",
        "plt.rcParams[\"figure.figsize\"] = (8,8)\n",
        "plot_confusion_matrix(y_test_2, knn_2.predict(X_test_2), classes=['0','1','2','3','4','5','6','7','8','9'], normalize=False, title='Confusion matrix of knn')"
      ],
      "metadata": {
        "id": "UyyLzppgg1fm",
        "colab": {
          "base_uri": "https://localhost:8080/",
          "height": 998
        },
        "outputId": "69ba7b6c-18bc-46d1-d69a-12cb6db25b21"
      },
      "execution_count": null,
      "outputs": [
        {
          "output_type": "stream",
          "name": "stdout",
          "text": [
            "[[1020    0    7    1    0    0    0    1    5    2]\n",
            " [   1  997    1    0    0    0    0    0    1    8]\n",
            " [  13    0  964    3    5    3    7    3    0    0]\n",
            " [   1    0   11  883    7   46    7    2    1    0]\n",
            " [   2    0    4   10  956    4    2    3    0    0]\n",
            " [   0    0    0   65    7  939    1    7    0    0]\n",
            " [   1    1    6    3    2    1  996    0    0    0]\n",
            " [   3    0    0    5    4    5    0  952    0    0]\n",
            " [   2    1    2    0    0    0    0    0  993    0]\n",
            " [   1   10    0    2    0    0    0    1    1 1008]]\n"
          ]
        },
        {
          "output_type": "execute_result",
          "data": {
            "text/plain": [
              "<Axes: title={'center': 'Confusion matrix of knn'}, xlabel='Predicted label', ylabel='True label'>"
            ]
          },
          "metadata": {},
          "execution_count": 69
        },
        {
          "output_type": "display_data",
          "data": {
            "text/plain": [
              "<Figure size 800x800 with 2 Axes>"
            ],
            "image/png": "[encoded data removed]"
          },
          "metadata": {}
        }
      ]
    },
    {
      "cell_type": "markdown",
      "source": [
        "#PREDICTION ON BLIND TESTS"
      ],
      "metadata": {
        "id": "x6VN35gFC5Fx"
      }
    },
    {
      "cell_type": "markdown",
      "source": [
        "##Blind test 1"
      ],
      "metadata": {
        "id": "t74tNN_lSjrg"
      }
    },
    {
      "cell_type": "markdown",
      "source": [
        "###Load Data"
      ],
      "metadata": {
        "id": "FUK0lGEOSdTJ"
      }
    },
    {
      "cell_type": "code",
      "source": [
        "X_blind_test_1,y_temp = load_data(\"/content/drive/MyDrive/Colab Notebooks/Machine Learning Exercises/Homework 1/blind_test1.csv\")"
      ],
      "metadata": {
        "id": "ejAzoVPuC9vh"
      },
      "execution_count": null,
      "outputs": []
    },
    {
      "cell_type": "code",
      "source": [
        "print(\"Size of set: %d\" %X_blind_test_1.shape[0])"
      ],
      "metadata": {
        "colab": {
          "base_uri": "https://localhost:8080/"
        },
        "id": "41RdNwxISzCu",
        "outputId": "98ab5c6d-b169-4195-dfb0-d2994dacd963"
      },
      "execution_count": null,
      "outputs": [
        {
          "output_type": "stream",
          "name": "stdout",
          "text": [
            "Size of set: 10000\n"
          ]
        }
      ]
    },
    {
      "cell_type": "markdown",
      "source": [
        "###Predict"
      ],
      "metadata": {
        "id": "Ki_u1Wx0UN37"
      }
    },
    {
      "cell_type": "code",
      "source": [
        "prediction_set_1 = open(\"/content/drive/MyDrive/Colab Notebooks/Machine Learning Exercises/Homework 1/prediction_set_1.csv\",\"w\",newline=\"\")\n",
        "writer = csv.writer(prediction_set_1)\n",
        "\n",
        "predict = svm_c_1.predict(X_blind_test_1)\n",
        "\n",
        "for i in range(0,len(predict)):\n",
        "    writer.writerow([predict[i]])"
      ],
      "metadata": {
        "id": "jsj8tIyHURPu"
      },
      "execution_count": null,
      "outputs": []
    },
    {
      "cell_type": "markdown",
      "source": [
        "##Blind test 2"
      ],
      "metadata": {
        "id": "M4_mMZHUWwom"
      }
    },
    {
      "cell_type": "markdown",
      "source": [
        "###Load Data"
      ],
      "metadata": {
        "id": "qBM4BYxJW0Pa"
      }
    },
    {
      "cell_type": "code",
      "source": [
        "X_blind_test_2,y_temp = load_data(\"/content/drive/MyDrive/Colab Notebooks/Machine Learning Exercises/Homework 1/blind_test2.csv\")"
      ],
      "metadata": {
        "id": "4WqI0xCcW4kp"
      },
      "execution_count": null,
      "outputs": []
    },
    {
      "cell_type": "code",
      "source": [
        "print(\"Size of set: %d\" %X_blind_test_2.shape[0])"
      ],
      "metadata": {
        "colab": {
          "base_uri": "https://localhost:8080/"
        },
        "id": "1AJi9cgdW85o",
        "outputId": "568a700c-0784-4478-b650-84bf966a40f4"
      },
      "execution_count": null,
      "outputs": [
        {
          "output_type": "stream",
          "name": "stdout",
          "text": [
            "Size of set: 10000\n"
          ]
        }
      ]
    },
    {
      "cell_type": "markdown",
      "source": [
        "###Predict"
      ],
      "metadata": {
        "id": "DS80sJfqXDUY"
      }
    },
    {
      "cell_type": "code",
      "source": [
        "prediction_set_2 = open(\"/content/drive/MyDrive/Colab Notebooks/Machine Learning Exercises/Homework 1/prediction_set_2.csv\",\"w\",newline=\"\")\n",
        "writer = csv.writer(prediction_set_2)\n",
        "\n",
        "predict = svm_c_2.predict(X_blind_test_2)\n",
        "\n",
        "for i in range(0,len(predict)):\n",
        "    writer.writerow([predict[i]])"
      ],
      "metadata": {
        "id": "8HW0iF4lXFI7"
      },
      "execution_count": null,
      "outputs": []
    }
  ]
}